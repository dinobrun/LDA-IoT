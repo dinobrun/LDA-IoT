{
 "cells": [
  {
   "cell_type": "markdown",
   "id": "a13af864",
   "metadata": {},
   "source": [
    "## Introduzione\n",
    "\n",
    "La ricerca scientifica in ambito IoT è un topic molto dinamico che ha acquisito notevole popolarità soprattutto negli ultimi anni, dopo la diffusione capillare di internet e l’abbassamento dei costi di dispositivi hardware in grado di comunicare sulla rete. I dispositivi IoT vengono attualmente utilizzati in qualsiasi ambito, a partire dalla domotica fino al supporto in ambito aziendale per l’industria 4.0, volta a migliorare i processi produttivi e decisionali.\n",
    "\n",
    "Tuttavia, analizzare tutto quello che la popolazione scientifica ha elaborato, e quindi tutte le applicazioni o i dispositivi che negli anni sono stati studiati, risulta un processo molto dispendioso in termini di tempo; il processo di comprensione di un articolo scientifico per un umano è molto naturale e, in particolare, riassumere i concetti fondamentali è cruciale per poter carpire a fondo il tema di un testo.\n",
    "\n",
    "Il problema nasce nel momento in cui, come in questo caso, la letteratura scientifica presente a riguardo dell’ambito in analisi è molto vasta, con un numero molto elevato di documenti e, soprattutto, svariate applicazioni specifiche. Destreggiarsi tra i vari documenti in modo manuale cercando di individuare la tematica di ogni paper singolarmente può portare via molto tempo o, risultare addirittura impraticabile se il corpus da analizzare ha dimensioni troppo elevate.\n",
    "\n",
    "Per questo motivo in questo paper si utilizzano modelli a topic latenti (anche detti topic models), delle tecniche statistiche di tipo bayesiano per la ricerca automatica dei topic all’interno di un corpus di documenti testuali [inserire riferimento al capitolo sui topic models]."
   ]
  },
  {
   "cell_type": "code",
   "execution_count": 1,
   "id": "dcc7e484",
   "metadata": {},
   "outputs": [],
   "source": [
    "import pandas as pd\n",
    "import webbrowser"
   ]
  },
  {
   "cell_type": "markdown",
   "id": "37c0c9fb",
   "metadata": {},
   "source": [
    "### Scelta ed elaborazione del dataset"
   ]
  },
  {
   "cell_type": "markdown",
   "id": "698ff816",
   "metadata": {},
   "source": [
    "Per analizzare la letteratura presente in ambito IoT si è deciso di utilizzare la piattaforma Web of Science, un motore di ricerca per pubblicazioni facenti parte di una raccolta di giornali più famosi. \n",
    "\n",
    "Una volta effettuato l'accesso attraverso l'università di Bari, sono stati ricercati tutti i documenti nel cui titolo compare la parola chiave \"IoT\".\n",
    "\n",
    "Essendo questi in numero eccessivamente elevato, la scelta è stata quella di selezionare solamente quelli più affidabili, selezionando gli appositi filtri messi a disposizione direttamente da Web of Science: Hot topics e most cited ????.\n",
    "\n",
    "Esportando la lista dei risultati si ottiene un file Excel contente 260 paper e 68 campi con tutte le informazioni relative, tra cui gli autori, la data, il DOI e l'abstract. "
   ]
  },
  {
   "cell_type": "code",
   "execution_count": 2,
   "id": "5fbbec22",
   "metadata": {},
   "outputs": [],
   "source": [
    "data = pd.read_excel(\"paper_iot.xls\")"
   ]
  },
  {
   "cell_type": "code",
   "execution_count": 3,
   "id": "7d272e32",
   "metadata": {
    "scrolled": true
   },
   "outputs": [
    {
     "data": {
      "text/html": [
       "<div>\n",
       "<style scoped>\n",
       "    .dataframe tbody tr th:only-of-type {\n",
       "        vertical-align: middle;\n",
       "    }\n",
       "\n",
       "    .dataframe tbody tr th {\n",
       "        vertical-align: top;\n",
       "    }\n",
       "\n",
       "    .dataframe thead th {\n",
       "        text-align: right;\n",
       "    }\n",
       "</style>\n",
       "<table border=\"1\" class=\"dataframe\">\n",
       "  <thead>\n",
       "    <tr style=\"text-align: right;\">\n",
       "      <th></th>\n",
       "      <th>Publication Type</th>\n",
       "      <th>Authors</th>\n",
       "      <th>Book Authors</th>\n",
       "      <th>Book Editors</th>\n",
       "      <th>Book Group Authors</th>\n",
       "      <th>Author Full Names</th>\n",
       "      <th>Book Author Full Names</th>\n",
       "      <th>Group Authors</th>\n",
       "      <th>Article Title</th>\n",
       "      <th>Source Title</th>\n",
       "      <th>...</th>\n",
       "      <th>WoS Categories</th>\n",
       "      <th>Research Areas</th>\n",
       "      <th>IDS Number</th>\n",
       "      <th>UT (Unique WOS ID)</th>\n",
       "      <th>Pubmed Id</th>\n",
       "      <th>Open Access Designations</th>\n",
       "      <th>Highly Cited Status</th>\n",
       "      <th>Hot Paper Status</th>\n",
       "      <th>Date of Export</th>\n",
       "      <th>Unnamed: 67</th>\n",
       "    </tr>\n",
       "  </thead>\n",
       "  <tbody>\n",
       "    <tr>\n",
       "      <th>0</th>\n",
       "      <td>J</td>\n",
       "      <td>Lv, ZH; Qiao, L; Li, JH; Song, HB</td>\n",
       "      <td>NaN</td>\n",
       "      <td>NaN</td>\n",
       "      <td>NaN</td>\n",
       "      <td>Lv, Zhihan; Qiao, Liang; Li, Jinhua; Song, Hou...</td>\n",
       "      <td>NaN</td>\n",
       "      <td>NaN</td>\n",
       "      <td>Deep-Learning-Enabled Security Issues in the I...</td>\n",
       "      <td>IEEE INTERNET OF THINGS JOURNAL</td>\n",
       "      <td>...</td>\n",
       "      <td>Computer Science, Information Systems; Enginee...</td>\n",
       "      <td>Computer Science; Engineering; Telecommunications</td>\n",
       "      <td>SN5UQ</td>\n",
       "      <td>WOS:000658354800008</td>\n",
       "      <td>NaN</td>\n",
       "      <td>NaN</td>\n",
       "      <td>Y</td>\n",
       "      <td>N</td>\n",
       "      <td>2021-10-25</td>\n",
       "      <td>NaN</td>\n",
       "    </tr>\n",
       "    <tr>\n",
       "      <th>1</th>\n",
       "      <td>J</td>\n",
       "      <td>Guo, ZW; Shen, Y; Bashir, AK; Imran, M; Kumar,...</td>\n",
       "      <td>NaN</td>\n",
       "      <td>NaN</td>\n",
       "      <td>NaN</td>\n",
       "      <td>Guo, Zhiwei; Shen, Yu; Bashir, Ali Kashif; Imr...</td>\n",
       "      <td>NaN</td>\n",
       "      <td>NaN</td>\n",
       "      <td>Robust Spammer Detection Using Collaborative N...</td>\n",
       "      <td>IEEE INTERNET OF THINGS JOURNAL</td>\n",
       "      <td>...</td>\n",
       "      <td>Computer Science, Information Systems; Enginee...</td>\n",
       "      <td>Computer Science; Engineering; Telecommunications</td>\n",
       "      <td>SN5UQ</td>\n",
       "      <td>WOS:000658354800010</td>\n",
       "      <td>NaN</td>\n",
       "      <td>Green Accepted</td>\n",
       "      <td>Y</td>\n",
       "      <td>N</td>\n",
       "      <td>2021-10-25</td>\n",
       "      <td>NaN</td>\n",
       "    </tr>\n",
       "    <tr>\n",
       "      <th>2</th>\n",
       "      <td>J</td>\n",
       "      <td>Wu, YL</td>\n",
       "      <td>NaN</td>\n",
       "      <td>NaN</td>\n",
       "      <td>NaN</td>\n",
       "      <td>Wu, Yulei</td>\n",
       "      <td>NaN</td>\n",
       "      <td>NaN</td>\n",
       "      <td>Robust Learning-Enabled Intelligence for the I...</td>\n",
       "      <td>IEEE INTERNET OF THINGS JOURNAL</td>\n",
       "      <td>...</td>\n",
       "      <td>Computer Science, Information Systems; Enginee...</td>\n",
       "      <td>Computer Science; Engineering; Telecommunications</td>\n",
       "      <td>SN5UQ</td>\n",
       "      <td>WOS:000658354800012</td>\n",
       "      <td>31985450.0</td>\n",
       "      <td>NaN</td>\n",
       "      <td>Y</td>\n",
       "      <td>Y</td>\n",
       "      <td>2021-10-25</td>\n",
       "      <td>NaN</td>\n",
       "    </tr>\n",
       "    <tr>\n",
       "      <th>3</th>\n",
       "      <td>J</td>\n",
       "      <td>Cai, XJ; Geng, SJ; Wu, D; Cai, JH; Chen, JJ</td>\n",
       "      <td>NaN</td>\n",
       "      <td>NaN</td>\n",
       "      <td>NaN</td>\n",
       "      <td>Cai, Xingjuan; Geng, Shaojin; Wu, Di; Cai, Jia...</td>\n",
       "      <td>NaN</td>\n",
       "      <td>NaN</td>\n",
       "      <td>A Multicloud-Model-Based Many-Objective Intell...</td>\n",
       "      <td>IEEE INTERNET OF THINGS JOURNAL</td>\n",
       "      <td>...</td>\n",
       "      <td>Computer Science, Information Systems; Enginee...</td>\n",
       "      <td>Computer Science; Engineering; Telecommunications</td>\n",
       "      <td>SN5UQ</td>\n",
       "      <td>WOS:000658354800019</td>\n",
       "      <td>NaN</td>\n",
       "      <td>NaN</td>\n",
       "      <td>Y</td>\n",
       "      <td>Y</td>\n",
       "      <td>2021-10-25</td>\n",
       "      <td>NaN</td>\n",
       "    </tr>\n",
       "    <tr>\n",
       "      <th>4</th>\n",
       "      <td>J</td>\n",
       "      <td>Han, JL; Lin, N; Ruan, JH; Wang, XP; Wei, W; L...</td>\n",
       "      <td>NaN</td>\n",
       "      <td>NaN</td>\n",
       "      <td>NaN</td>\n",
       "      <td>Han, Jiliang; Lin, Na; Ruan, Junhu; Wang, Xupi...</td>\n",
       "      <td>NaN</td>\n",
       "      <td>NaN</td>\n",
       "      <td>A Model for Joint Planning of Production and D...</td>\n",
       "      <td>IEEE INTERNET OF THINGS JOURNAL</td>\n",
       "      <td>...</td>\n",
       "      <td>Computer Science, Information Systems; Enginee...</td>\n",
       "      <td>Computer Science; Engineering; Telecommunications</td>\n",
       "      <td>SN5UQ</td>\n",
       "      <td>WOS:000658354800023</td>\n",
       "      <td>31398107.0</td>\n",
       "      <td>NaN</td>\n",
       "      <td>Y</td>\n",
       "      <td>N</td>\n",
       "      <td>2021-10-25</td>\n",
       "      <td>NaN</td>\n",
       "    </tr>\n",
       "  </tbody>\n",
       "</table>\n",
       "<p>5 rows × 68 columns</p>\n",
       "</div>"
      ],
      "text/plain": [
       "  Publication Type                                            Authors  \\\n",
       "0                J                  Lv, ZH; Qiao, L; Li, JH; Song, HB   \n",
       "1                J  Guo, ZW; Shen, Y; Bashir, AK; Imran, M; Kumar,...   \n",
       "2                J                                             Wu, YL   \n",
       "3                J        Cai, XJ; Geng, SJ; Wu, D; Cai, JH; Chen, JJ   \n",
       "4                J  Han, JL; Lin, N; Ruan, JH; Wang, XP; Wei, W; L...   \n",
       "\n",
       "   Book Authors  Book Editors  Book Group Authors  \\\n",
       "0           NaN           NaN                 NaN   \n",
       "1           NaN           NaN                 NaN   \n",
       "2           NaN           NaN                 NaN   \n",
       "3           NaN           NaN                 NaN   \n",
       "4           NaN           NaN                 NaN   \n",
       "\n",
       "                                   Author Full Names  Book Author Full Names  \\\n",
       "0  Lv, Zhihan; Qiao, Liang; Li, Jinhua; Song, Hou...                     NaN   \n",
       "1  Guo, Zhiwei; Shen, Yu; Bashir, Ali Kashif; Imr...                     NaN   \n",
       "2                                          Wu, Yulei                     NaN   \n",
       "3  Cai, Xingjuan; Geng, Shaojin; Wu, Di; Cai, Jia...                     NaN   \n",
       "4  Han, Jiliang; Lin, Na; Ruan, Junhu; Wang, Xupi...                     NaN   \n",
       "\n",
       "   Group Authors                                      Article Title  \\\n",
       "0            NaN  Deep-Learning-Enabled Security Issues in the I...   \n",
       "1            NaN  Robust Spammer Detection Using Collaborative N...   \n",
       "2            NaN  Robust Learning-Enabled Intelligence for the I...   \n",
       "3            NaN  A Multicloud-Model-Based Many-Objective Intell...   \n",
       "4            NaN  A Model for Joint Planning of Production and D...   \n",
       "\n",
       "                      Source Title  ...  \\\n",
       "0  IEEE INTERNET OF THINGS JOURNAL  ...   \n",
       "1  IEEE INTERNET OF THINGS JOURNAL  ...   \n",
       "2  IEEE INTERNET OF THINGS JOURNAL  ...   \n",
       "3  IEEE INTERNET OF THINGS JOURNAL  ...   \n",
       "4  IEEE INTERNET OF THINGS JOURNAL  ...   \n",
       "\n",
       "                                      WoS Categories  \\\n",
       "0  Computer Science, Information Systems; Enginee...   \n",
       "1  Computer Science, Information Systems; Enginee...   \n",
       "2  Computer Science, Information Systems; Enginee...   \n",
       "3  Computer Science, Information Systems; Enginee...   \n",
       "4  Computer Science, Information Systems; Enginee...   \n",
       "\n",
       "                                      Research Areas IDS Number  \\\n",
       "0  Computer Science; Engineering; Telecommunications      SN5UQ   \n",
       "1  Computer Science; Engineering; Telecommunications      SN5UQ   \n",
       "2  Computer Science; Engineering; Telecommunications      SN5UQ   \n",
       "3  Computer Science; Engineering; Telecommunications      SN5UQ   \n",
       "4  Computer Science; Engineering; Telecommunications      SN5UQ   \n",
       "\n",
       "    UT (Unique WOS ID)   Pubmed Id  Open Access Designations  \\\n",
       "0  WOS:000658354800008         NaN                       NaN   \n",
       "1  WOS:000658354800010         NaN            Green Accepted   \n",
       "2  WOS:000658354800012  31985450.0                       NaN   \n",
       "3  WOS:000658354800019         NaN                       NaN   \n",
       "4  WOS:000658354800023  31398107.0                       NaN   \n",
       "\n",
       "   Highly Cited Status  Hot Paper Status  Date of Export Unnamed: 67  \n",
       "0                    Y                 N      2021-10-25         NaN  \n",
       "1                    Y                 N      2021-10-25         NaN  \n",
       "2                    Y                 Y      2021-10-25         NaN  \n",
       "3                    Y                 Y      2021-10-25         NaN  \n",
       "4                    Y                 N      2021-10-25         NaN  \n",
       "\n",
       "[5 rows x 68 columns]"
      ]
     },
     "execution_count": 3,
     "metadata": {},
     "output_type": "execute_result"
    }
   ],
   "source": [
    "data.head()"
   ]
  },
  {
   "cell_type": "code",
   "execution_count": 4,
   "id": "d17ece1f",
   "metadata": {
    "scrolled": true
   },
   "outputs": [
    {
     "data": {
      "text/plain": [
       "(260, 68)"
      ]
     },
     "execution_count": 4,
     "metadata": {},
     "output_type": "execute_result"
    }
   ],
   "source": [
    "data.shape"
   ]
  },
  {
   "cell_type": "code",
   "execution_count": 5,
   "id": "926c5efd",
   "metadata": {},
   "outputs": [],
   "source": [
    "#data = pd.read_csv(\"backup_corpus/corpus_intro_final.csv\")"
   ]
  },
  {
   "cell_type": "markdown",
   "id": "8fd145b5",
   "metadata": {},
   "source": [
    "### Inserimento introduzioni"
   ]
  },
  {
   "cell_type": "markdown",
   "id": "cb75793e",
   "metadata": {},
   "source": [
    "In questo lavoro di tesi si è voluto inoltre confrontare la qualità dei topic ottenuti sia utilizzando solamente gli abstract per estrapolare i topic latenti, sia aggiungendo all'abstract anche l'introduzione dei documenti, in modo tale da aumentare la quantità di testo ed ottenere una matrice termini-documenti meno sparsa.\n",
    "\n",
    "L'informazione riguardante l'introduzione non è però accessibile facilmente dai motori di ricerca su paper, come Web of Science, ma diventa necessariamente un processo manuale attraverso cui bisogna accedere ad ogni singolo documento ed estrarne l'introduzione.\n",
    "\n",
    "Per automatizzare il processo è stato realizzato un ciclo in cui ad ogni passaggio:\n",
    "- viene aperta una pagina web utilizzando il DOI di ogni documento;\n",
    "- l'introduzione viene selezionata e copiata;\n",
    "- il testo copiato viene inserito nella casella di input dello script e salvato.\n",
    "\n",
    "Tutto questo è stato ripetuto per i 260 paper presenti all'interno del dataset."
   ]
  },
  {
   "cell_type": "code",
   "execution_count": 7,
   "id": "69380339",
   "metadata": {},
   "outputs": [
    {
     "ename": "KeyboardInterrupt",
     "evalue": "Interrupted by user",
     "output_type": "error",
     "traceback": [
      "\u001b[1;31m---------------------------------------------------------------------------\u001b[0m",
      "\u001b[1;31mKeyboardInterrupt\u001b[0m                         Traceback (most recent call last)",
      "\u001b[1;32m<ipython-input-7-7db95a041f9b>\u001b[0m in \u001b[0;36m<module>\u001b[1;34m\u001b[0m\n\u001b[0;32m      4\u001b[0m \u001b[1;32mfor\u001b[0m \u001b[0mi\u001b[0m \u001b[1;32min\u001b[0m \u001b[0mrange\u001b[0m\u001b[1;33m(\u001b[0m\u001b[1;36m0\u001b[0m\u001b[1;33m,\u001b[0m \u001b[1;36m260\u001b[0m\u001b[1;33m)\u001b[0m\u001b[1;33m:\u001b[0m\u001b[1;33m\u001b[0m\u001b[1;33m\u001b[0m\u001b[0m\n\u001b[0;32m      5\u001b[0m     \u001b[0mwebbrowser\u001b[0m\u001b[1;33m.\u001b[0m\u001b[0mopen\u001b[0m\u001b[1;33m(\u001b[0m\u001b[1;34m'https://doi.org/'\u001b[0m \u001b[1;33m+\u001b[0m \u001b[0mstr\u001b[0m\u001b[1;33m(\u001b[0m\u001b[0mdata\u001b[0m\u001b[1;33m.\u001b[0m\u001b[0mloc\u001b[0m\u001b[1;33m[\u001b[0m\u001b[0mi\u001b[0m\u001b[1;33m,\u001b[0m \u001b[1;34m\"DOI\"\u001b[0m\u001b[1;33m]\u001b[0m\u001b[1;33m)\u001b[0m\u001b[1;33m)\u001b[0m\u001b[1;33m\u001b[0m\u001b[1;33m\u001b[0m\u001b[0m\n\u001b[1;32m----> 6\u001b[1;33m     \u001b[0mintro\u001b[0m \u001b[1;33m=\u001b[0m \u001b[0minput\u001b[0m\u001b[1;33m(\u001b[0m\u001b[1;34m'Inserisci introduzione per riga '\u001b[0m \u001b[1;33m+\u001b[0m \u001b[0mstr\u001b[0m\u001b[1;33m(\u001b[0m\u001b[0mi\u001b[0m\u001b[1;33m)\u001b[0m \u001b[1;33m+\u001b[0m \u001b[1;34m': '\u001b[0m\u001b[1;33m)\u001b[0m\u001b[1;33m\u001b[0m\u001b[1;33m\u001b[0m\u001b[0m\n\u001b[0m\u001b[0;32m      7\u001b[0m     \u001b[0mdata\u001b[0m\u001b[1;33m.\u001b[0m\u001b[0mat\u001b[0m\u001b[1;33m[\u001b[0m\u001b[0mi\u001b[0m\u001b[1;33m,\u001b[0m \u001b[1;34m'Introduction'\u001b[0m\u001b[1;33m]\u001b[0m \u001b[1;33m=\u001b[0m \u001b[0mintro\u001b[0m\u001b[1;33m\u001b[0m\u001b[1;33m\u001b[0m\u001b[0m\n\u001b[0;32m      8\u001b[0m     \u001b[0mdata\u001b[0m\u001b[1;33m.\u001b[0m\u001b[0mto_csv\u001b[0m\u001b[1;33m(\u001b[0m\u001b[1;34m\"backup_corpus/corpus_intro_\"\u001b[0m \u001b[1;33m+\u001b[0m \u001b[0mstr\u001b[0m\u001b[1;33m(\u001b[0m\u001b[0mi\u001b[0m\u001b[1;33m)\u001b[0m \u001b[1;33m+\u001b[0m \u001b[1;34m\".csv\"\u001b[0m\u001b[1;33m)\u001b[0m\u001b[1;33m\u001b[0m\u001b[1;33m\u001b[0m\u001b[0m\n",
      "\u001b[1;32m~\\Anaconda3\\lib\\site-packages\\ipykernel\\kernelbase.py\u001b[0m in \u001b[0;36mraw_input\u001b[1;34m(self, prompt)\u001b[0m\n\u001b[0;32m    861\u001b[0m             \u001b[0mself\u001b[0m\u001b[1;33m.\u001b[0m\u001b[0m_parent_ident\u001b[0m\u001b[1;33m,\u001b[0m\u001b[1;33m\u001b[0m\u001b[1;33m\u001b[0m\u001b[0m\n\u001b[0;32m    862\u001b[0m             \u001b[0mself\u001b[0m\u001b[1;33m.\u001b[0m\u001b[0m_parent_header\u001b[0m\u001b[1;33m,\u001b[0m\u001b[1;33m\u001b[0m\u001b[1;33m\u001b[0m\u001b[0m\n\u001b[1;32m--> 863\u001b[1;33m             \u001b[0mpassword\u001b[0m\u001b[1;33m=\u001b[0m\u001b[1;32mFalse\u001b[0m\u001b[1;33m,\u001b[0m\u001b[1;33m\u001b[0m\u001b[1;33m\u001b[0m\u001b[0m\n\u001b[0m\u001b[0;32m    864\u001b[0m         )\n\u001b[0;32m    865\u001b[0m \u001b[1;33m\u001b[0m\u001b[0m\n",
      "\u001b[1;32m~\\Anaconda3\\lib\\site-packages\\ipykernel\\kernelbase.py\u001b[0m in \u001b[0;36m_input_request\u001b[1;34m(self, prompt, ident, parent, password)\u001b[0m\n\u001b[0;32m    902\u001b[0m             \u001b[1;32mexcept\u001b[0m \u001b[0mKeyboardInterrupt\u001b[0m\u001b[1;33m:\u001b[0m\u001b[1;33m\u001b[0m\u001b[1;33m\u001b[0m\u001b[0m\n\u001b[0;32m    903\u001b[0m                 \u001b[1;31m# re-raise KeyboardInterrupt, to truncate traceback\u001b[0m\u001b[1;33m\u001b[0m\u001b[1;33m\u001b[0m\u001b[1;33m\u001b[0m\u001b[0m\n\u001b[1;32m--> 904\u001b[1;33m                 \u001b[1;32mraise\u001b[0m \u001b[0mKeyboardInterrupt\u001b[0m\u001b[1;33m(\u001b[0m\u001b[1;34m\"Interrupted by user\"\u001b[0m\u001b[1;33m)\u001b[0m \u001b[1;32mfrom\u001b[0m \u001b[1;32mNone\u001b[0m\u001b[1;33m\u001b[0m\u001b[1;33m\u001b[0m\u001b[0m\n\u001b[0m\u001b[0;32m    905\u001b[0m             \u001b[1;32mexcept\u001b[0m \u001b[0mException\u001b[0m \u001b[1;32mas\u001b[0m \u001b[0me\u001b[0m\u001b[1;33m:\u001b[0m\u001b[1;33m\u001b[0m\u001b[1;33m\u001b[0m\u001b[0m\n\u001b[0;32m    906\u001b[0m                 \u001b[0mself\u001b[0m\u001b[1;33m.\u001b[0m\u001b[0mlog\u001b[0m\u001b[1;33m.\u001b[0m\u001b[0mwarning\u001b[0m\u001b[1;33m(\u001b[0m\u001b[1;34m\"Invalid Message:\"\u001b[0m\u001b[1;33m,\u001b[0m \u001b[0mexc_info\u001b[0m\u001b[1;33m=\u001b[0m\u001b[1;32mTrue\u001b[0m\u001b[1;33m)\u001b[0m\u001b[1;33m\u001b[0m\u001b[1;33m\u001b[0m\u001b[0m\n",
      "\u001b[1;31mKeyboardInterrupt\u001b[0m: Interrupted by user"
     ]
    }
   ],
   "source": [
    "# Aggiunta colonna vuota introduzione\n",
    "data['Introduction'] = \"\"\n",
    "\n",
    "for i in range(0, 260):\n",
    "    webbrowser.open('https://doi.org/' + str(data.loc[i, \"DOI\"]))\n",
    "    intro = input('Inserisci introduzione per riga ' + str(i) + ': ')\n",
    "    data.at[i, 'Introduction'] = intro\n",
    "    data.to_csv(\"backup_corpus/corpus_intro_\" + str(i) + \".csv\")"
   ]
  },
  {
   "cell_type": "markdown",
   "id": "bc4aabd4",
   "metadata": {},
   "source": [
    "## riga 129 - nessun accesso"
   ]
  }
 ],
 "metadata": {
  "kernelspec": {
   "display_name": "Python 3",
   "language": "python",
   "name": "python3"
  },
  "language_info": {
   "codemirror_mode": {
    "name": "ipython",
    "version": 3
   },
   "file_extension": ".py",
   "mimetype": "text/x-python",
   "name": "python",
   "nbconvert_exporter": "python",
   "pygments_lexer": "ipython3",
   "version": "3.7.3"
  }
 },
 "nbformat": 4,
 "nbformat_minor": 5
}
