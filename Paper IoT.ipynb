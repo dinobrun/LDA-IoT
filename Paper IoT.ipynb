{
 "cells": [
  {
   "cell_type": "code",
   "execution_count": 1,
   "id": "31dff5d7",
   "metadata": {},
   "outputs": [],
   "source": [
    "import pandas as pd\n",
    "import numpy as np\n",
    "import math\n",
    "pd.set_option('display.max_colwidth', 100)\n",
    "import matplotlib.pyplot as plt"
   ]
  },
  {
   "cell_type": "markdown",
   "id": "ec1e6c1a",
   "metadata": {},
   "source": [
    "### Caricamento del dataset"
   ]
  },
  {
   "cell_type": "code",
   "execution_count": 2,
   "id": "4b32ca7f",
   "metadata": {
    "scrolled": true
   },
   "outputs": [],
   "source": [
    "data = pd.read_csv(\"backup_corpus/corpus_intro_final.csv\")"
   ]
  },
  {
   "cell_type": "code",
   "execution_count": 3,
   "id": "e8cb152d",
   "metadata": {},
   "outputs": [],
   "source": [
    "corpus = data[['Article Title', 'Abstract', 'Introduction', 'Publication Year', 'Times Cited, All Databases']]"
   ]
  },
  {
   "cell_type": "code",
   "execution_count": 4,
   "id": "c31d0726",
   "metadata": {
    "scrolled": true
   },
   "outputs": [
    {
     "name": "stdout",
     "output_type": "stream",
     "text": [
      "<class 'pandas.core.frame.DataFrame'>\n",
      "RangeIndex: 260 entries, 0 to 259\n",
      "Data columns (total 5 columns):\n",
      " #   Column                      Non-Null Count  Dtype \n",
      "---  ------                      --------------  ----- \n",
      " 0   Article Title               260 non-null    object\n",
      " 1   Abstract                    260 non-null    object\n",
      " 2   Introduction                259 non-null    object\n",
      " 3   Publication Year            260 non-null    int64 \n",
      " 4   Times Cited, All Databases  260 non-null    int64 \n",
      "dtypes: int64(2), object(3)\n",
      "memory usage: 10.3+ KB\n"
     ]
    }
   ],
   "source": [
    "corpus.info()"
   ]
  },
  {
   "cell_type": "markdown",
   "id": "bf18c4b1",
   "metadata": {},
   "source": [
    "### Rimozione documenti vuoti"
   ]
  },
  {
   "cell_type": "code",
   "execution_count": 5,
   "id": "a15a7f59",
   "metadata": {
    "scrolled": true
   },
   "outputs": [
    {
     "name": "stdout",
     "output_type": "stream",
     "text": [
      "<class 'pandas.core.frame.DataFrame'>\n",
      "RangeIndex: 259 entries, 0 to 258\n",
      "Data columns (total 5 columns):\n",
      " #   Column                      Non-Null Count  Dtype \n",
      "---  ------                      --------------  ----- \n",
      " 0   Article Title               259 non-null    object\n",
      " 1   Abstract                    259 non-null    object\n",
      " 2   Introduction                259 non-null    object\n",
      " 3   Publication Year            259 non-null    int64 \n",
      " 4   Times Cited, All Databases  259 non-null    int64 \n",
      "dtypes: int64(2), object(3)\n",
      "memory usage: 10.2+ KB\n"
     ]
    }
   ],
   "source": [
    "corpus = corpus.dropna() #remove nan values\n",
    "corpus = corpus.reset_index(drop=True) #reset index for removed elements\n",
    "corpus.info()"
   ]
  },
  {
   "cell_type": "markdown",
   "id": "c01e5a61",
   "metadata": {},
   "source": [
    "### Aggiunta titolo, introduzione e abstract al corpus"
   ]
  },
  {
   "cell_type": "markdown",
   "id": "eff75969",
   "metadata": {},
   "source": [
    "Dopo aver arricchito il dataset contenente i documenti scientifici con le introduzioni, si procede selezionando solamente le feature contenenti informazioni utili per poter estrarre i topic latenti dal corpus. In particolare, per questo studio si è scelto di combinare il titolo, l'abstract e l'introduzione concatenandoli; questa operazione è possibile poichè i modelli per topic trattano il testo come una bag-of-words e, pertanto, l'ordine delle parole è indifferente."
   ]
  },
  {
   "cell_type": "code",
   "execution_count": 6,
   "id": "1d9f2dab",
   "metadata": {},
   "outputs": [],
   "source": [
    "corpus['Introduction'] = corpus.loc[:, 'Article Title'] + ' ' + corpus.loc[:, 'Abstract'] + '' + corpus.loc[:, 'Introduction']"
   ]
  },
  {
   "cell_type": "markdown",
   "id": "7567621c",
   "metadata": {},
   "source": [
    "## Descrizione dataset"
   ]
  },
  {
   "cell_type": "code",
   "execution_count": 56,
   "id": "077270bf",
   "metadata": {},
   "outputs": [],
   "source": [
    "import seaborn as sns\n",
    "sns.set_theme()"
   ]
  },
  {
   "cell_type": "code",
   "execution_count": 8,
   "id": "2fda4efc",
   "metadata": {
    "scrolled": true
   },
   "outputs": [],
   "source": [
    "corpus = corpus.rename(columns={\"Publication Year\": \"Year\", \"Article Title\": \"Title\", \"Times Cited, All Databases\": \"Citations\"})"
   ]
  },
  {
   "cell_type": "code",
   "execution_count": 57,
   "id": "0d19e0b3",
   "metadata": {},
   "outputs": [
    {
     "data": {
      "image/png": "[encoded data removed]",
      "text/plain": [
       "<Figure size 432x288 with 1 Axes>"
      ]
     },
     "metadata": {},
     "output_type": "display_data"
    }
   ],
   "source": [
    "ax = sns.countplot(y=\"Year\", data=corpus, color='skyblue')"
   ]
  },
  {
   "cell_type": "markdown",
   "id": "a0662078",
   "metadata": {},
   "source": [
    "### Preprocessing"
   ]
  },
  {
   "cell_type": "markdown",
   "id": "89adf54f",
   "metadata": {},
   "source": [
    "Tutte le tecniche di NLP (Natural Language Processing) necessitano di una fase preliminare di pulizia dei dati, nella quale si rimuovono le parti di testo che non portano informazione utile ma, anzi, potrebbero peggiorare le prestazioni del modello [inserire riferimento al capitolo sul preprocessing nel software].\n",
    "\n",
    "Il testo viene preliminarmente trasformato in minuscolo, poi vengono rimossi i numeri e tutti i caratteri speciali, filtrando dunque tutto ciò che non è una parola di linguaggio naturale."
   ]
  },
  {
   "cell_type": "code",
   "execution_count": 10,
   "id": "f133b5e7",
   "metadata": {
    "scrolled": false
   },
   "outputs": [
    {
     "data": {
      "text/plain": [
       "0      deep-learning-enabled security issues in the internet of things in order to explore the applicat...\n",
       "1      robust spammer detection using collaborative neural network in internet-of-things applications s...\n",
       "2      robust learning-enabled intelligence for the internet of things survey from the perspectives of ...\n",
       "3      multicloud-model-based many-objective intelligent algorithm for efficient task scheduling in int...\n",
       "4      model for joint planning of production and distribution of fresh produce in agricultural interne...\n",
       "                                                      ...                                                 \n",
       "254    an overview of the internet of things for people with disabilities currently over billion people...\n",
       "255    smart community an internet of things application in this article we introduce an internet of th...\n",
       "256    siot giving social structure to the internet of things the actual development of the internet of...\n",
       "257    securing the internet of things this paper presents security of internet of things in the intern...\n",
       "258    multimedia traffic security architecture for the internet of things an important challenge for s...\n",
       "Name: Introduction, Length: 259, dtype: object"
      ]
     },
     "execution_count": 10,
     "metadata": {},
     "output_type": "execute_result"
    }
   ],
   "source": [
    "# lowercase\n",
    "corpus['Introduction'] = corpus['Introduction'].str.lower()\n",
    "\n",
    "# remove numbers\n",
    "corpus['Introduction'] = corpus['Introduction'].str.replace(r'[0-9]+', ' ', regex=True)\n",
    "\n",
    "# remove link\n",
    "corpus['Introduction'] = corpus['Introduction'].str.replace(r'http\\S+', ' ', regex=True)\n",
    "\n",
    "# remove punctuaction and special characters except dashes\n",
    "corpus['Introduction'] = corpus['Introduction'].str.replace(r'[^\\w\\s\\-]', ' ', regex=True)\n",
    "\n",
    "#remove single dashes preserving intra-word\n",
    "corpus['Introduction'] = corpus['Introduction'].str.replace('-(?!\\w)|(?<!\\w)-', ' ', regex=True)\n",
    "\n",
    "#remove single letter\n",
    "corpus['Introduction'] = corpus['Introduction'].str.replace('\\\\b\\\\w\\\\s', '', regex=True)\n",
    "\n",
    "# remove extra spaces\n",
    "corpus['Introduction'] = corpus['Introduction'].str.replace(' +', ' ', regex=True)\n",
    "\n",
    "corpus['Introduction']"
   ]
  },
  {
   "cell_type": "code",
   "execution_count": 11,
   "id": "7c85fcab",
   "metadata": {},
   "outputs": [],
   "source": [
    "corpus['IntroLen'] = corpus['Introduction'].map(lambda x: len(x.split()))"
   ]
  },
  {
   "cell_type": "code",
   "execution_count": 12,
   "id": "00866254",
   "metadata": {},
   "outputs": [
    {
     "name": "stdout",
     "output_type": "stream",
     "text": [
      "Lunghezza media documenti corpus con abstract e introduzione: 1064.4903474903474\n"
     ]
    }
   ],
   "source": [
    "print('Lunghezza media documenti corpus con abstract e introduzione:', np.mean(corpus['IntroLen']))"
   ]
  },
  {
   "cell_type": "markdown",
   "id": "b7bbc4bf",
   "metadata": {},
   "source": [
    "### Rimozione stopwords e stemming"
   ]
  },
  {
   "cell_type": "code",
   "execution_count": 13,
   "id": "7def7a1b",
   "metadata": {},
   "outputs": [],
   "source": [
    "import nltk\n",
    "#nltk.download('punkt')\n",
    "from nltk import word_tokenize \n",
    "from nltk.corpus import stopwords\n",
    "#nltk.download('stopwords')\n",
    "from nltk.stem.snowball import SnowballStemmer"
   ]
  },
  {
   "cell_type": "markdown",
   "id": "cdfb7880",
   "metadata": {},
   "source": [
    "Un altro passo fondamentale facente parte del preprocessing del testo è la rimozione delle stopwords, parole molto frequenti che hanno poco significato semantico ma che vengono utilizzate nel linguaggio naturale; un esempio di stopwords è dato dagli articoli e dalle congiunzioni.\n",
    "Nel corpus sono però presenti altre parole molto frequenti presenti nella maggior parte dei documenti e che, dunque, non risultano utili per estrarre conoscenza. Le parole indicate sono state aggiunte alle stopwords in modo tale da essere filtrate prima dell'inserimento del corpus all'interno del modello."
   ]
  },
  {
   "cell_type": "code",
   "execution_count": 14,
   "id": "0c91d684",
   "metadata": {},
   "outputs": [],
   "source": [
    "stop = stopwords.words('english')\n",
    "stop.extend(['et', 'al', 'iot', 'data', 'internet', 'devices', 'proposed',\n",
    "             'things', 'network', 'applications', 'section', \n",
    "             'used', 'systems', 'system', 'developed', 'paper'])\n",
    "stemmer = SnowballStemmer(\"english\")"
   ]
  },
  {
   "cell_type": "code",
   "execution_count": 15,
   "id": "f390ab71",
   "metadata": {},
   "outputs": [],
   "source": [
    "# remove stopwords\n",
    "corpus['Introduction'] = corpus['Introduction'].apply(lambda x: [item for item in str(x).split() if item not in stop])"
   ]
  },
  {
   "cell_type": "markdown",
   "id": "4d894e95",
   "metadata": {},
   "source": [
    "L'operazione di stemming, invece, ha lo scopo di rimuovere le forme flesse delle parole così da ridurre la dimensionalità andando a raggruppare tutte le parole che hanno la stessa radice. [ ricondursi al paragrafo in cui è spiegato]."
   ]
  },
  {
   "cell_type": "code",
   "execution_count": 16,
   "id": "c36333c3",
   "metadata": {},
   "outputs": [],
   "source": [
    "# stemming\n",
    "stemmed_documents = corpus['Introduction'].apply(lambda x: [stemmer.stem(y) for y in x]) "
   ]
  },
  {
   "cell_type": "markdown",
   "id": "dd17eefe",
   "metadata": {},
   "source": [
    "### Ricostruzione parole dopo stemming"
   ]
  },
  {
   "cell_type": "markdown",
   "id": "17587668",
   "metadata": {},
   "source": [
    "Dopo aver effettuato lo stemming le parole vengono ricondotte alla propria radice e questo ne riduce l'interpretabilità. Per ovviare a questo problema le parole vengono ricostruite utilizzando la forma flessa più frequente associato ad ogni termine su cui è stato applicato lo stemming."
   ]
  },
  {
   "cell_type": "code",
   "execution_count": 17,
   "id": "8b7d5aa3",
   "metadata": {},
   "outputs": [],
   "source": [
    "def unstem(stemmed_documents, non_stemmed_documents):\n",
    "    stemmed_words = list()\n",
    "    non_stemmed_words = list()\n",
    "    \n",
    "    # convert matrix of stemmed documents into lists of terms\n",
    "    for i in stemmed_documents:\n",
    "        stemmed_words = stemmed_words + i\n",
    "        \n",
    "    # convert matrix of stemmed documents into lists of terms\n",
    "    for i in non_stemmed_documents:\n",
    "        non_stemmed_words = non_stemmed_words + i\n",
    "        \n",
    "    # list with no duplicates of words\n",
    "    stemmed_words_list = list(set(stemmed_words))\n",
    "    \n",
    "    # create a list with the correct non-stemmed words\n",
    "    correct_words_list = list()\n",
    "    \n",
    "    # dictionary with normal word -> stemmed word\n",
    "    w_dict = dict(zip(non_stemmed_words, stemmed_words))\n",
    "    \n",
    "    # loop all stemmed words\n",
    "    for word in stemmed_words_list:\n",
    "        word_list = [k for k in w_dict.keys() if w_dict[k] == word]\n",
    "        right_word = (max(word_list, key=word_list.count))\n",
    "        correct_words_list.append(right_word)\n",
    "        \n",
    "    # create a dictionary with stemmed word -> correct word\n",
    "    dictionary = dict(zip(stemmed_words_list, correct_words_list))\n",
    "    \n",
    "    unstemmed_documents = pd.Series(np.zeros(len(stemmed_documents)))\n",
    "    # map all stemmed words to the correct one\n",
    "    for i in range(0, len(stemmed_documents)):\n",
    "        unstemmed_documents[i] = [*map(dictionary.get, stemmed_documents[i])]\n",
    "        \n",
    "    return unstemmed_documents"
   ]
  },
  {
   "cell_type": "code",
   "execution_count": 18,
   "id": "1f315dba",
   "metadata": {},
   "outputs": [],
   "source": [
    "# get all documents not stemmed\n",
    "non_stemmed_documents = corpus['Introduction']"
   ]
  },
  {
   "cell_type": "code",
   "execution_count": 19,
   "id": "6613e436",
   "metadata": {
    "scrolled": false
   },
   "outputs": [
    {
     "data": {
      "text/plain": [
       "0      [deep-learning-enabled, security, issues, order, explore, application, value, deep, learning, de...\n",
       "1      [robustness, spammer, detection, using, collaborative, neural, internet-of-things, spamming, eme...\n",
       "2      [robustness, learning-enabled, intelligent, survey, perspective, noisy, adversarial, example, wi...\n",
       "3      [multicloud-model-based, many-objective, intelligent, algorithms, efficiency, task, scheduling, ...\n",
       "4      [model, joint, planning, product, distributed, fresh, produce, agriculture, product, distributed...\n",
       "                                                      ...                                                 \n",
       "254    [overview, people, disabling, currently, billion, people, include, children, world, population, ...\n",
       "255    [smart, communities, application, article, introduced, application, smart, communities, refer, p...\n",
       "256    [siot, give, social, structure, actual, development, need, major, issues, relations, service, di...\n",
       "257    [security, presently, security, vision, every, physical, objects, virtualization, components, pr...\n",
       "258    [multimedia, traffic, security, architecture, important, challenge, supporting, multimedia, secu...\n",
       "Length: 259, dtype: object"
      ]
     },
     "execution_count": 19,
     "metadata": {},
     "output_type": "execute_result"
    }
   ],
   "source": [
    "unstemmed_documents = unstem(stemmed_documents, non_stemmed_documents)\n",
    "unstemmed_documents"
   ]
  },
  {
   "cell_type": "markdown",
   "id": "9324c195",
   "metadata": {},
   "source": [
    "## LDA perplexity"
   ]
  },
  {
   "cell_type": "code",
   "execution_count": 20,
   "id": "91110521",
   "metadata": {},
   "outputs": [],
   "source": [
    "from tomotopy import LDAModel\n",
    "from tomotopy import CTModel\n",
    "from tomotopy.utils import Corpus"
   ]
  },
  {
   "cell_type": "code",
   "execution_count": 21,
   "id": "7b77eb91",
   "metadata": {},
   "outputs": [],
   "source": [
    "burn_in_samp = 10 # numero di campioni burnin\n",
    "train_iter = 100 # train con 50 iterazioni"
   ]
  },
  {
   "cell_type": "code",
   "execution_count": 22,
   "id": "ad5f07cd",
   "metadata": {},
   "outputs": [],
   "source": [
    "from sklearn.model_selection import KFold"
   ]
  },
  {
   "cell_type": "code",
   "execution_count": 23,
   "id": "579e813b",
   "metadata": {
    "scrolled": false
   },
   "outputs": [
    {
     "name": "stdout",
     "output_type": "stream",
     "text": [
      "Perplexity media LDA con 5-fold CV con k=2: 1083.7155134134698\n",
      "Perplexity media LDA con 5-fold CV con k=3: 1164.5785492649109\n",
      "Perplexity media LDA con 5-fold CV con k=4: 1235.8464420874993\n",
      "Perplexity media LDA con 5-fold CV con k=5: 1260.48939517028\n",
      "Perplexity media LDA con 5-fold CV con k=6: 1268.913009902611\n",
      "Perplexity media LDA con 5-fold CV con k=7: 1244.5969356788166\n",
      "Perplexity media LDA con 5-fold CV con k=8: 1261.1229957092016\n",
      "Perplexity media LDA con 5-fold CV con k=9: 1284.2372361737746\n",
      "Perplexity media LDA con 5-fold CV con k=10: 1288.9426151182774\n",
      "Perplexity media LDA con 5-fold CV con k=11: 1290.6195496843259\n",
      "Perplexity media LDA con 5-fold CV con k=12: 1276.6625674219345\n",
      "Perplexity media LDA con 5-fold CV con k=13: 1227.1478603917253\n",
      "Perplexity media LDA con 5-fold CV con k=14: 1357.473158442713\n",
      "Perplexity media LDA con 5-fold CV con k=15: 1285.2999616572374\n",
      "Perplexity media LDA con 5-fold CV con k=16: 1248.0571654253072\n",
      "Perplexity media LDA con 5-fold CV con k=17: 1245.1728755766271\n",
      "Perplexity media LDA con 5-fold CV con k=18: 1272.4853230443855\n",
      "Perplexity media LDA con 5-fold CV con k=19: 1313.9088001464493\n",
      "Perplexity media LDA con 5-fold CV con k=20: 1248.4196493719387\n"
     ]
    }
   ],
   "source": [
    "perplexity_lda = list() # inizializzazione lista di perplexity per la visualizzazione\n",
    "\n",
    "for i in range(2, 21):\n",
    "    # inizializza fold\n",
    "    kf = KFold(n_splits=5, shuffle=True)\n",
    "    perplexity_list = list()\n",
    "    for train_index, test_index in kf.split(unstemmed_documents):\n",
    "        X_train, X_test = unstemmed_documents[train_index], unstemmed_documents[test_index]\n",
    "        # creazione corpus tomotopy\n",
    "        corpus_train = Corpus()\n",
    "        for doc in X_train:\n",
    "            corpus_train.add_doc(doc)\n",
    "        # creazione modello LDA\n",
    "        lda_model = LDAModel(k=i, alpha=50/i, eta=0.1, corpus=corpus_train)\n",
    "        lda_model.burn_in = burn_in_samp #imposta burnin\n",
    "        lda_model.train(train_iter)\n",
    "        # inferenza sui documenti di test\n",
    "        corpus_test = Corpus()\n",
    "        for doc in X_test:\n",
    "            corpus_test.add_doc(doc)\n",
    "        # calcolo perpleity su test set\n",
    "        topic_dist, ll = lda_model.infer(corpus_test)\n",
    "        num_words = sum(X_test.map(lambda x: len(x)))\n",
    "        perp = math.exp(-(np.sum(ll)/num_words))\n",
    "        perplexity_list.append(perp)\n",
    "    perplexity_lda.append(np.mean(perplexity_list))\n",
    "    print('Perplexity media LDA con 5-fold CV con k={}: {}'.format(i, np.mean(perplexity_list)))"
   ]
  },
  {
   "cell_type": "code",
   "execution_count": 55,
   "id": "239cacaf",
   "metadata": {},
   "outputs": [
    {
     "data": {
      "image/png": "[encoded data removed]",
      "text/plain": [
       "<Figure size 720x432 with 1 Axes>"
      ]
     },
     "metadata": {},
     "output_type": "display_data"
    }
   ],
   "source": [
    "ax = plt.figure(figsize=(10,6))\n",
    "ax = sns.lineplot(x=range(2, 21), y=perplexity_lda)\n",
    "ax.set(xticks=list(range(2,21)))\n",
    "ax.set_xlabel('Numero topic')\n",
    "ax.set_ylabel('Perplexity')\n",
    "plt.show()"
   ]
  },
  {
   "cell_type": "markdown",
   "id": "3694e860",
   "metadata": {},
   "source": [
    "## CTM perplexity"
   ]
  },
  {
   "cell_type": "code",
   "execution_count": 25,
   "id": "e9749a11",
   "metadata": {
    "scrolled": true
   },
   "outputs": [
    {
     "name": "stdout",
     "output_type": "stream",
     "text": [
      "Perplexity media CTM con 5-fold CV con k=2: 534.6489187122933\n",
      "Perplexity media CTM con 5-fold CV con k=3: 419.20922600717824\n",
      "Perplexity media CTM con 5-fold CV con k=4: 360.5933273605881\n",
      "Perplexity media CTM con 5-fold CV con k=5: 318.92853891906725\n",
      "Perplexity media CTM con 5-fold CV con k=6: 297.5593927071076\n",
      "Perplexity media CTM con 5-fold CV con k=7: 276.9262332204335\n",
      "Perplexity media CTM con 5-fold CV con k=8: 263.7171384234045\n",
      "Perplexity media CTM con 5-fold CV con k=9: 254.15635569630967\n",
      "Perplexity media CTM con 5-fold CV con k=10: 242.51401435425169\n",
      "Perplexity media CTM con 5-fold CV con k=11: 239.4803794603231\n",
      "Perplexity media CTM con 5-fold CV con k=12: 230.75590514412042\n",
      "Perplexity media CTM con 5-fold CV con k=13: 229.54360753092732\n",
      "Perplexity media CTM con 5-fold CV con k=14: 226.07344586026346\n",
      "Perplexity media CTM con 5-fold CV con k=15: 222.0934971354293\n",
      "Perplexity media CTM con 5-fold CV con k=16: 218.11115803073454\n",
      "Perplexity media CTM con 5-fold CV con k=17: 217.55913771681094\n",
      "Perplexity media CTM con 5-fold CV con k=18: 216.57549503338993\n",
      "Perplexity media CTM con 5-fold CV con k=19: 212.07879480471775\n",
      "Perplexity media CTM con 5-fold CV con k=20: 212.8074290044617\n"
     ]
    }
   ],
   "source": [
    "perplexity_ctm = list() # inizializzazione lista di perplexity per la visualizzazione\n",
    "\n",
    "for i in range(2, 21):\n",
    "    # inizializza fold\n",
    "    kf = KFold(n_splits=5, shuffle=True)\n",
    "    perplexity_list = list()\n",
    "    for train_index, test_index in kf.split(unstemmed_documents):\n",
    "        X_train, X_test = unstemmed_documents[train_index], unstemmed_documents[test_index]\n",
    "        # creazione corpus tomotopy\n",
    "        corpus_train = Corpus()\n",
    "        for doc in X_train:\n",
    "            corpus_train.add_doc(doc)\n",
    "        # creazione modello LDA\n",
    "        ctm_model = CTModel(k=i, smoothing_alpha=50/i, eta=0.1, corpus=corpus_train) # costruzione modello\n",
    "        ctm_model.burn_in = burn_in_samp #imposta burnin\n",
    "        ctm_model.train(train_iter)\n",
    "        # inferenza sui documenti di test\n",
    "        corpus_test = Corpus()\n",
    "        for doc in X_test:\n",
    "            corpus_test.add_doc(doc)\n",
    "        # calcolo perpleity su test set\n",
    "        topic_dist, ll = ctm_model.infer(corpus_test)\n",
    "        num_words = sum(X_test.map(lambda x: len(x)))\n",
    "        perp = math.exp(-(np.sum(ll)/num_words))\n",
    "        perplexity_list.append(perp)\n",
    "    perplexity_ctm.append(np.mean(perplexity_list))\n",
    "    print('Perplexity media CTM con 5-fold CV con k={}: {}'.format(i, np.mean(perplexity_list)))"
   ]
  },
  {
   "cell_type": "code",
   "execution_count": 54,
   "id": "31259b92",
   "metadata": {},
   "outputs": [
    {
     "data": {
      "image/png": "[encoded data removed]",
      "text/plain": [
       "<Figure size 720x432 with 1 Axes>"
      ]
     },
     "metadata": {},
     "output_type": "display_data"
    }
   ],
   "source": [
    "ax = plt.figure(figsize=(10,6))\n",
    "ax = sns.lineplot(x=range(2, 21), y=perplexity_ctm)\n",
    "ax.set(xticks=list(range(2,21)))\n",
    "ax.set_xlabel('Numero topic')\n",
    "ax.set_ylabel('Perplexity')\n",
    "plt.show()"
   ]
  },
  {
   "cell_type": "markdown",
   "id": "7a7c6ded",
   "metadata": {},
   "source": [
    "## Coherence"
   ]
  },
  {
   "cell_type": "code",
   "execution_count": 27,
   "id": "954cc162",
   "metadata": {},
   "outputs": [],
   "source": [
    "from tomotopy.coherence import Coherence"
   ]
  },
  {
   "cell_type": "code",
   "execution_count": 28,
   "id": "7fade59c",
   "metadata": {},
   "outputs": [],
   "source": [
    "# corpus completo con tutti i documenti\n",
    "corpus_total = Corpus()\n",
    "for doc in unstemmed_documents:\n",
    "    corpus_total.add_doc(doc)"
   ]
  },
  {
   "cell_type": "markdown",
   "id": "67b68f27",
   "metadata": {},
   "source": [
    "## Coherence LDA"
   ]
  },
  {
   "cell_type": "code",
   "execution_count": 29,
   "id": "81f6dadd",
   "metadata": {},
   "outputs": [
    {
     "name": "stdout",
     "output_type": "stream",
     "text": [
      "Coherence LDA c_v con k=3 = 0.5165354248136281\n",
      "Coherence LDA c_v con k=4 = 0.5093549749813974\n",
      "Coherence LDA c_v con k=5 = 0.5054014691524208\n",
      "Coherence LDA c_v con k=6 = 0.5386133569894204\n",
      "Coherence LDA c_v con k=7 = 0.5650945150426455\n",
      "Coherence LDA c_v con k=8 = 0.5379471155116335\n",
      "Coherence LDA c_v con k=9 = 0.5534022974471251\n",
      "Coherence LDA c_v con k=10 = 0.5389863784611225\n",
      "Coherence LDA c_v con k=11 = 0.5423887267708778\n",
      "Coherence LDA c_v con k=12 = 0.58881738781929\n",
      "Coherence LDA c_v con k=13 = 0.5744883591882312\n",
      "Coherence LDA c_v con k=14 = 0.5915310750582388\n"
     ]
    }
   ],
   "source": [
    "coherence_lda = list() # inizializza lista di coherence per la visualizzazione\n",
    "\n",
    "for i in range(3, 15):\n",
    "    # creazione modello LDA e train con tutti i documenti\n",
    "    lda_model = LDAModel(k=i, alpha=50/i, eta=0.1, seed=12345, corpus=corpus_total) # costruzione modello\n",
    "    lda_model.burn_in = burn_in_samp #imposta burnin\n",
    "    lda_model.train(train_iter) # iterazioni di train\n",
    "    coh = Coherence(lda_model, coherence='c_v')\n",
    "    average_coherence = coh.get_score()\n",
    "    coherence_lda.append(average_coherence)\n",
    "    print('Coherence LDA c_v con k={} = {}'.format(i, average_coherence))"
   ]
  },
  {
   "cell_type": "code",
   "execution_count": 30,
   "id": "bb504dbe",
   "metadata": {},
   "outputs": [
    {
     "data": {
      "text/plain": [
       "<AxesSubplot:>"
      ]
     },
     "execution_count": 30,
     "metadata": {},
     "output_type": "execute_result"
    },
    {
     "data": {
      "image/png": "[encoded data removed]",
      "text/plain": [
       "<Figure size 432x288 with 1 Axes>"
      ]
     },
     "metadata": {
      "needs_background": "light"
     },
     "output_type": "display_data"
    }
   ],
   "source": [
    "sns.lineplot(x=range(3, 15), y=coherence_lda)"
   ]
  },
  {
   "cell_type": "markdown",
   "id": "d0fb5887",
   "metadata": {},
   "source": [
    "## Coherence CTM"
   ]
  },
  {
   "cell_type": "code",
   "execution_count": 31,
   "id": "58ad0c7f",
   "metadata": {
    "scrolled": true
   },
   "outputs": [
    {
     "name": "stdout",
     "output_type": "stream",
     "text": [
      "Coherence CTM c_v con k=3 = 0.38745121348959705\n",
      "Coherence CTM c_v con k=4 = 0.37833925066515806\n",
      "Coherence CTM c_v con k=5 = 0.366527528911829\n",
      "Coherence CTM c_v con k=6 = 0.33316604278516027\n",
      "Coherence CTM c_v con k=7 = 0.35739556660077404\n",
      "Coherence CTM c_v con k=8 = 0.34638360610697416\n",
      "Coherence CTM c_v con k=9 = 0.35523568271762795\n",
      "Coherence CTM c_v con k=10 = 0.3552260970324278\n",
      "Coherence CTM c_v con k=11 = 0.3519119760868224\n",
      "Coherence CTM c_v con k=12 = 0.3624426298929999\n",
      "Coherence CTM c_v con k=13 = 0.3454557130556518\n",
      "Coherence CTM c_v con k=14 = 0.3386288596982402\n"
     ]
    }
   ],
   "source": [
    "coherence_ctm = list() # inizializza lista di coherence per la visualizzazione\n",
    "\n",
    "for i in range(3, 15):\n",
    "    # creazione modello LDA e train con tutti i documenti\n",
    "    ctm_model = CTModel(k=i, smoothing_alpha=50/i, seed=12345, eta=0.1, corpus=corpus_total) # costruzione modello\n",
    "    ctm_model.burn_in = burn_in_samp #imposta burnin\n",
    "    ctm_model.train(train_iter) # iterazioni di train\n",
    "    coh = Coherence(ctm_model, coherence='c_v')\n",
    "    average_coherence = coh.get_score()\n",
    "    coherence_ctm.append(average_coherence)\n",
    "    print('Coherence CTM c_v con k={} = {}'.format(i, average_coherence))"
   ]
  },
  {
   "cell_type": "code",
   "execution_count": 32,
   "id": "3fcb5035",
   "metadata": {},
   "outputs": [
    {
     "data": {
      "text/plain": [
       "<AxesSubplot:>"
      ]
     },
     "execution_count": 32,
     "metadata": {},
     "output_type": "execute_result"
    },
    {
     "data": {
      "image/png": "[encoded data removed]",
      "text/plain": [
       "<Figure size 432x288 with 1 Axes>"
      ]
     },
     "metadata": {
      "needs_background": "light"
     },
     "output_type": "display_data"
    }
   ],
   "source": [
    "sns.lineplot(x=range(3, 15), y=coherence_ctm)"
   ]
  },
  {
   "cell_type": "markdown",
   "id": "849f65bb",
   "metadata": {},
   "source": [
    "## Estrazione topic LDA"
   ]
  },
  {
   "cell_type": "code",
   "execution_count": 33,
   "id": "cdd93792",
   "metadata": {},
   "outputs": [],
   "source": [
    "k=7\n",
    "lda_model = LDAModel(k=k, alpha=50/k, eta=0.1, seed=12345, corpus=corpus_total) # costruzione modello\n",
    "lda_model.burn_in = burn_in_samp #imposta burnin"
   ]
  },
  {
   "cell_type": "markdown",
   "id": "c6d523e7",
   "metadata": {},
   "source": [
    "#### Train del modello"
   ]
  },
  {
   "cell_type": "code",
   "execution_count": 34,
   "id": "3917c2da",
   "metadata": {},
   "outputs": [],
   "source": [
    "lda_model.train(train_iter) # effettua il train"
   ]
  },
  {
   "cell_type": "code",
   "execution_count": 35,
   "id": "a7fad9e9",
   "metadata": {},
   "outputs": [
    {
     "name": "stdout",
     "output_type": "stream",
     "text": [
      "Num docs: 259 , Vocab size: 7791 , Num words: 154961\n",
      "Removed top words: []\n"
     ]
    }
   ],
   "source": [
    "print('Num docs:', len(lda_model.docs), ', Vocab size:', len(lda_model.used_vocabs), ', Num words:', lda_model.num_words)\n",
    "print('Removed top words:', lda_model.removed_top_words)"
   ]
  },
  {
   "cell_type": "code",
   "execution_count": 36,
   "id": "2da18fae",
   "metadata": {
    "scrolled": false
   },
   "outputs": [
    {
     "name": "stdout",
     "output_type": "stream",
     "text": [
      "Topic #0\n",
      "\t\tenergy\t0.03965230658650398\n",
      "\t\tiiot\t0.026922833174467087\n",
      "\t\tindustry\t0.019921623170375824\n",
      "\t\tpower\t0.014829834923148155\n",
      "\t\ttechnology\t0.012920414097607136\n",
      "\t\tmanufacturing\t0.011647467501461506\n",
      "\t\tcontrol\t0.009556196630001068\n",
      "\t\tmanages\t0.00937434658408165\n",
      "\t\telectricity\t0.008101399056613445\n",
      "\t\tmonitored\t0.0077377003617584705\n",
      "Topic #1\n",
      "\t\tsecurity\t0.04018525034189224\n",
      "\t\tblockchain\t0.022032959386706352\n",
      "\t\tnodes\t0.020315850153565407\n",
      "\t\tattacked\t0.020070549100637436\n",
      "\t\tschemes\t0.014722981490194798\n",
      "\t\taccess\t0.012220908887684345\n",
      "\t\tprivacy\t0.01192654762417078\n",
      "\t\tusers\t0.011092523112893105\n",
      "\t\tcontrol\t0.011092523112893105\n",
      "\t\tsensors\t0.010405680164694786\n",
      "Topic #2\n",
      "\t\tsmart\t0.03662388026714325\n",
      "\t\tcity\t0.016181277111172676\n",
      "\t\tsensors\t0.014820888638496399\n",
      "\t\tinformation\t0.010408815927803516\n",
      "\t\tenvironment\t0.01004114281386137\n",
      "\t\ttechnology\t0.009342564269900322\n",
      "\t\tbig\t0.008791055530309677\n",
      "\t\tmonitored\t0.00853368453681469\n",
      "\t\tusing\t0.008460150100290775\n",
      "\t\thuman\t0.00842338241636753\n",
      "Topic #3\n",
      "\t\tlearning\t0.01872926764190197\n",
      "\t\talgorithms\t0.01688935048878193\n",
      "\t\toptimization\t0.013913015834987164\n",
      "\t\tmodel\t0.013913015834987164\n",
      "\t\tdetection\t0.01061198953539133\n",
      "\t\tfeature\t0.010557874105870724\n",
      "\t\tdeep\t0.009746146388351917\n",
      "\t\tbased\t0.00969203095883131\n",
      "\t\tperformance\t0.009637915529310703\n",
      "\t\tmethods\t0.008717957884073257\n",
      "Topic #4\n",
      "\t\tcommunication\t0.03625061362981796\n",
      "\t\taccess\t0.013451050966978073\n",
      "\t\ttransmission\t0.01275805477052927\n",
      "\t\tpower\t0.01213435921818018\n",
      "\t\twireless\t0.011718560941517353\n",
      "\t\tnb-iot\t0.011094865389168262\n",
      "\t\ttechnology\t0.009570273570716381\n",
      "\t\tspectrum\t0.009362375363707542\n",
      "\t\tnetworks\t0.009223775938153267\n",
      "\t\trequires\t0.009223775938153267\n",
      "Topic #5\n",
      "\t\tresearch\t0.01764228753745556\n",
      "\t\ttechnology\t0.017009533941745758\n",
      "\t\tprovide\t0.0125802680850029\n",
      "\t\tchallenge\t0.012541919015347958\n",
      "\t\tpresently\t0.010912102647125721\n",
      "\t\tsurvey\t0.00968494638800621\n",
      "\t\tdiscussed\t0.0090330196544528\n",
      "\t\tfuture\t0.008246872574090958\n",
      "\t\tintegrated\t0.00809347815811634\n",
      "\t\tnetworks\t0.007844212464988232\n",
      "Topic #6\n",
      "\t\tcomputing\t0.04668785259127617\n",
      "\t\tedge\t0.029219405725598335\n",
      "\t\tcloud\t0.024032529443502426\n",
      "\t\tservice\t0.020991945639252663\n",
      "\t\tfog\t0.01491078082472086\n",
      "\t\tresources\t0.011691339313983917\n",
      "\t\tprocess\t0.009902761317789555\n",
      "\t\tmobile\t0.009366188198328018\n",
      "\t\tarchitecture\t0.00918733049184084\n",
      "\t\ttraffic\t0.007875706069171429\n"
     ]
    }
   ],
   "source": [
    "for k in range(lda_model.k):\n",
    "    print('Topic #{}'.format(k))\n",
    "    for word, prob in lda_model.get_topic_words(k):\n",
    "        print('\\t', word, prob, sep='\\t')"
   ]
  },
  {
   "cell_type": "code",
   "execution_count": 37,
   "id": "1e1c3308",
   "metadata": {},
   "outputs": [],
   "source": [
    "for j in range(0, k+1):\n",
    "    corpus['Topic_'+str(j)] = pd.Series(np.zeros(len(stemmed_documents)))"
   ]
  },
  {
   "cell_type": "code",
   "execution_count": 38,
   "id": "f213ac15",
   "metadata": {
    "scrolled": false
   },
   "outputs": [],
   "source": [
    "for i in range(0, len(corpus['Introduction'])):\n",
    "    doc = lda_model.make_doc(unstemmed_documents[i])\n",
    "    x = lda_model.infer(doc)\n",
    "    for j in range(0, k+1):\n",
    "        corpus.at[i, 'Topic_'+str(j)] = x[0][j]"
   ]
  },
  {
   "cell_type": "code",
   "execution_count": 39,
   "id": "f67a5e1e",
   "metadata": {},
   "outputs": [],
   "source": [
    "pd.set_option('display.max_colwidth', None)"
   ]
  },
  {
   "cell_type": "code",
   "execution_count": 40,
   "id": "6527f57e",
   "metadata": {},
   "outputs": [],
   "source": [
    "topic_dict = {'Topic_0': 'Industry', 'Topic_1': 'Security', 'Topic_2': 'Smart City', 'Topic_3': 'Machine learning', \n",
    "              'Topic_4': 'Wireless communication', 'Topic_5': 'Research and surveys', 'Topic_6': 'Cloud computing'}"
   ]
  },
  {
   "cell_type": "code",
   "execution_count": 41,
   "id": "a13ce4c4",
   "metadata": {
    "scrolled": true
   },
   "outputs": [],
   "source": [
    "corpus = corpus.rename(columns=topic_dict)"
   ]
  },
  {
   "cell_type": "code",
   "execution_count": 42,
   "id": "f29149dd",
   "metadata": {},
   "outputs": [],
   "source": [
    "corpus['assignedTopic'] = corpus.iloc[:, 6:].idxmax(axis=1)"
   ]
  },
  {
   "cell_type": "code",
   "execution_count": 58,
   "id": "df97dc0a",
   "metadata": {},
   "outputs": [
    {
     "data": {
      "image/png": "[encoded data removed]",
      "text/plain": [
       "<Figure size 720x432 with 1 Axes>"
      ]
     },
     "metadata": {},
     "output_type": "display_data"
    }
   ],
   "source": [
    "ax = plt.figure(figsize=(10,6))\n",
    "ax = sns.countplot(y=\"assignedTopic\", data=corpus, color=\"skyblue\")\n",
    "ax.set_xlabel('Numero documenti')\n",
    "ax.set_ylabel('Topic')\n",
    "plt.show()"
   ]
  },
  {
   "cell_type": "code",
   "execution_count": 44,
   "id": "97435549",
   "metadata": {},
   "outputs": [
    {
     "data": {
      "text/plain": [
       "15                                                     Internet of Things as System of Systems: A Review of Methodologies, Frameworks, Platforms, and Tools\n",
       "16                                                                             The Internet of Everything: Smart things and their impact on business models\n",
       "22                                                        Hybrid optimization with cryptography encryption for medical image security in Internet of Things\n",
       "28                                                                   Security, privacy and trust of different layers in Internet-of-Things (IoTs) framework\n",
       "30                                                            Industry 4.0 and Health: Internet of Things, Big Data, and Cloud Computing for Healthcare 4.0\n",
       "38                         The dual effects of the Internet of Things (IoT): A systematic review of the benefits and risks of IoT adoption by organizations\n",
       "46                                                                      A Survey of Machine and Deep Learning Methods for Internet of Things (IoT) Security\n",
       "47                                                                           The Future of Healthcare Internet of Things: A Survey of Emerging Technologies\n",
       "50                                                                                                    Multimedia Internet of Things: A Comprehensive Survey\n",
       "51    Internet of Things (IoT) for Next-Generation Smart Systems: A Review of Current Challenges, Future Trends and Prospects for Emerging 5G-IoT Scenarios\n",
       "52                                                                        Security of the Internet of Things: Vulnerabilities, Attacks, and Countermeasures\n",
       "54                                                                Industrial internet of things: Recent advances, enabling technologies and open challenges\n",
       "55        Leveraging internet of things and big data analytics initiatives in European and American firms: Is data quality a way to extract business value?\n",
       "56                                                                     Blockchain for Managing Heterogeneous Internet of Things: A Perspective Architecture\n",
       "59                                                                                 A Survey of Healthcare Internet of Things (HIoT): A Clinical Perspective\n",
       "62                                                                                 Agent-based Internet of Things: State-of-the-art and research challenges\n",
       "64                                                                         Internet of Things in food safety: Literature review and a bibliometric analysis\n",
       "66                                                                                                              Blockchain for Internet of Things: A Survey\n",
       "67          The impact of the hybrid platform of internet of things and cloud computing on healthcare systems: opportunities, challenges, and open problems\n",
       "74                                                                                        A Survey on Internet of Things and Cloud Computing for Healthcare\n",
       "Name: Title, dtype: object"
      ]
     },
     "execution_count": 44,
     "metadata": {},
     "output_type": "execute_result"
    }
   ],
   "source": [
    "corpus.loc[corpus['assignedTopic'] == 'Research and surveys'].loc[:, 'Title'].head(20)"
   ]
  },
  {
   "cell_type": "markdown",
   "id": "a5f2fdef",
   "metadata": {},
   "source": [
    "## Estrazione topic CTM"
   ]
  },
  {
   "cell_type": "code",
   "execution_count": 45,
   "id": "1a42e133",
   "metadata": {},
   "outputs": [],
   "source": [
    "k = 5\n",
    "ctm_model = CTModel(k=k, smoothing_alpha=50/k, seed=12345, eta=0.1, corpus=corpus_total) # costruzione modello\n",
    "ctm_model.burn_in = burn_in_samp #imposta burnin\n",
    "ctm_model.train(train_iter) # iterazioni di train"
   ]
  },
  {
   "cell_type": "code",
   "execution_count": 46,
   "id": "a036f227",
   "metadata": {},
   "outputs": [
    {
     "name": "stdout",
     "output_type": "stream",
     "text": [
      "Num docs: 259 , Vocab size: 7791 , Num words: 154961\n",
      "Removed top words: []\n"
     ]
    }
   ],
   "source": [
    "print('Num docs:', len(ctm_model.docs), ', Vocab size:', len(ctm_model.used_vocabs), ', Num words:', ctm_model.num_words)\n",
    "print('Removed top words:', ctm_model.removed_top_words)"
   ]
  },
  {
   "cell_type": "code",
   "execution_count": 47,
   "id": "f2c54a37",
   "metadata": {},
   "outputs": [
    {
     "name": "stdout",
     "output_type": "stream",
     "text": [
      "Topic #0\n",
      "\t\tenergy\t0.020080117508769035\n",
      "\t\ttechnology\t0.019290929660201073\n",
      "\t\tcomputing\t0.01850173994898796\n",
      "\t\tobjects\t0.016386713832616806\n",
      "\t\tnew\t0.016228877007961273\n",
      "\t\tefficiency\t0.012030393816530704\n",
      "\t\tperformance\t0.011146502569317818\n",
      "\t\tconnects\t0.011020231992006302\n",
      "\t\ttransmission\t0.010104772634804249\n",
      "\t\tusing\t0.010104772634804249\n",
      "Topic #1\n",
      "\t\tnetworks\t0.021917525678873062\n",
      "\t\talso\t0.015790248289704323\n",
      "\t\tusers\t0.01554015465080738\n",
      "\t\tcommunication\t0.015383846126496792\n",
      "\t\tindustry\t0.014383474364876747\n",
      "\t\tstudy\t0.013070485554635525\n",
      "\t\tresources\t0.01185128279030323\n",
      "\t\tintegrated\t0.009881800040602684\n",
      "\t\tiiot\t0.008975213393568993\n",
      "\t\tusing\t0.008787643164396286\n",
      "Topic #2\n",
      "\t\tchallenge\t0.014416908845305443\n",
      "\t\tnodes\t0.014005088247358799\n",
      "\t\tdiscussed\t0.013434873893857002\n",
      "\t\tpower\t0.013118088245391846\n",
      "\t\tservice\t0.012959695421159267\n",
      "\t\ttechnology\t0.012041017413139343\n",
      "\t\tsecurity\t0.010837232694029808\n",
      "\t\tprotocol\t0.010362054221332073\n",
      "\t\talgorithms\t0.010298697277903557\n",
      "\t\tsolution\t0.009665125980973244\n",
      "Topic #3\n",
      "\t\tsensors\t0.026590470224618912\n",
      "\t\tsmart\t0.025308022275567055\n",
      "\t\tprovide\t0.016549838706851006\n",
      "\t\tenvironment\t0.014985878020524979\n",
      "\t\tmonitored\t0.014235176146030426\n",
      "\t\tsurvey\t0.01385982520878315\n",
      "\t\tinformation\t0.012233305722475052\n",
      "\t\tcity\t0.012045630253851414\n",
      "\t\trelations\t0.010575506836175919\n",
      "\t\texisting\t0.01038783136755228\n",
      "Topic #4\n",
      "\t\tresearch\t0.019969606772065163\n",
      "\t\tbased\t0.018611131235957146\n",
      "\t\tsecurity\t0.017631763592362404\n",
      "\t\tcomputing\t0.017126284539699554\n",
      "\t\tarchitecture\t0.014377739280462265\n",
      "\t\tservice\t0.013366779312491417\n",
      "\t\tapplication\t0.012482190504670143\n",
      "\t\ttechnology\t0.011313267983496189\n",
      "\t\tmodel\t0.011313267983496189\n",
      "\t\tmanages\t0.010965750552713871\n"
     ]
    }
   ],
   "source": [
    "for k in range(ctm_model.k):\n",
    "    print('Topic #{}'.format(k))\n",
    "    for word, prob in ctm_model.get_topic_words(k):\n",
    "        print('\\t', word, prob, sep='\\t')"
   ]
  }
 ],
 "metadata": {
  "kernelspec": {
   "display_name": "Python 3",
   "language": "python",
   "name": "python3"
  },
  "language_info": {
   "codemirror_mode": {
    "name": "ipython",
    "version": 3
   },
   "file_extension": ".py",
   "mimetype": "text/x-python",
   "name": "python",
   "nbconvert_exporter": "python",
   "pygments_lexer": "ipython3",
   "version": "3.7.3"
  }
 },
 "nbformat": 4,
 "nbformat_minor": 5
}
