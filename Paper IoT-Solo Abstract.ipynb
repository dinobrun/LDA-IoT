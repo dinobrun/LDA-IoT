{
 "cells": [
  {
   "cell_type": "code",
   "execution_count": 1,
   "id": "31dff5d7",
   "metadata": {},
   "outputs": [],
   "source": [
    "import pandas as pd\n",
    "import numpy as np\n",
    "import math\n",
    "pd.set_option('display.max_colwidth', 100)\n",
    "import matplotlib.pyplot as plt"
   ]
  },
  {
   "cell_type": "markdown",
   "id": "ec1e6c1a",
   "metadata": {},
   "source": [
    "### Caricamento del dataset"
   ]
  },
  {
   "cell_type": "code",
   "execution_count": 2,
   "id": "4b32ca7f",
   "metadata": {
    "scrolled": true
   },
   "outputs": [],
   "source": [
    "data = pd.read_csv(\"backup_corpus/corpus_intro_final.csv\")"
   ]
  },
  {
   "cell_type": "code",
   "execution_count": 3,
   "id": "e8cb152d",
   "metadata": {},
   "outputs": [],
   "source": [
    "corpus = data[['Article Title', 'Abstract', 'Introduction', 'Publication Year', 'Times Cited, All Databases']]"
   ]
  },
  {
   "cell_type": "code",
   "execution_count": 4,
   "id": "c31d0726",
   "metadata": {
    "scrolled": true
   },
   "outputs": [
    {
     "name": "stdout",
     "output_type": "stream",
     "text": [
      "<class 'pandas.core.frame.DataFrame'>\n",
      "RangeIndex: 260 entries, 0 to 259\n",
      "Data columns (total 5 columns):\n",
      " #   Column                      Non-Null Count  Dtype \n",
      "---  ------                      --------------  ----- \n",
      " 0   Article Title               260 non-null    object\n",
      " 1   Abstract                    260 non-null    object\n",
      " 2   Introduction                259 non-null    object\n",
      " 3   Publication Year            260 non-null    int64 \n",
      " 4   Times Cited, All Databases  260 non-null    int64 \n",
      "dtypes: int64(2), object(3)\n",
      "memory usage: 10.3+ KB\n"
     ]
    }
   ],
   "source": [
    "corpus.info()"
   ]
  },
  {
   "cell_type": "markdown",
   "id": "bf18c4b1",
   "metadata": {},
   "source": [
    "### Rimozione documenti vuoti"
   ]
  },
  {
   "cell_type": "code",
   "execution_count": 5,
   "id": "a15a7f59",
   "metadata": {
    "scrolled": true
   },
   "outputs": [
    {
     "name": "stdout",
     "output_type": "stream",
     "text": [
      "<class 'pandas.core.frame.DataFrame'>\n",
      "RangeIndex: 259 entries, 0 to 258\n",
      "Data columns (total 5 columns):\n",
      " #   Column                      Non-Null Count  Dtype \n",
      "---  ------                      --------------  ----- \n",
      " 0   Article Title               259 non-null    object\n",
      " 1   Abstract                    259 non-null    object\n",
      " 2   Introduction                259 non-null    object\n",
      " 3   Publication Year            259 non-null    int64 \n",
      " 4   Times Cited, All Databases  259 non-null    int64 \n",
      "dtypes: int64(2), object(3)\n",
      "memory usage: 10.2+ KB\n"
     ]
    }
   ],
   "source": [
    "corpus = corpus.dropna() #remove nan values\n",
    "corpus = corpus.reset_index(drop=True) #reset index for removed elements\n",
    "corpus.info()"
   ]
  },
  {
   "cell_type": "markdown",
   "id": "c01e5a61",
   "metadata": {},
   "source": [
    "### Aggiunta titolo, introduzione e abstract al corpus"
   ]
  },
  {
   "cell_type": "markdown",
   "id": "eff75969",
   "metadata": {},
   "source": [
    "Dopo aver arricchito il dataset contenente i documenti scientifici con le introduzioni, si procede selezionando solamente le feature contenenti informazioni utili per poter estrarre i topic latenti dal corpus. In particolare, per questo studio si è scelto di combinare il titolo, l'abstract e l'introduzione concatenandoli; questa operazione è possibile poichè i modelli per topic trattano il testo come una bag-of-words e, pertanto, l'ordine delle parole è indifferente."
   ]
  },
  {
   "cell_type": "code",
   "execution_count": 6,
   "id": "1d9f2dab",
   "metadata": {},
   "outputs": [],
   "source": [
    "corpus['Abstract'] = corpus.loc[:, 'Article Title'] + ' ' + corpus.loc[:, 'Abstract']"
   ]
  },
  {
   "cell_type": "markdown",
   "id": "7567621c",
   "metadata": {},
   "source": [
    "## Descrizione dataset"
   ]
  },
  {
   "cell_type": "code",
   "execution_count": 49,
   "id": "077270bf",
   "metadata": {},
   "outputs": [],
   "source": [
    "import seaborn as sns\n",
    "sns.set_theme()"
   ]
  },
  {
   "cell_type": "code",
   "execution_count": 8,
   "id": "2fda4efc",
   "metadata": {
    "scrolled": true
   },
   "outputs": [],
   "source": [
    "corpus = corpus.rename(columns={\"Publication Year\": \"Year\", \"Article Title\": \"Title\", \"Times Cited, All Databases\": \"Citations\"})"
   ]
  },
  {
   "cell_type": "code",
   "execution_count": 50,
   "id": "0d19e0b3",
   "metadata": {},
   "outputs": [
    {
     "data": {
      "image/png": "[encoded data removed]",
      "text/plain": [
       "<Figure size 432x288 with 1 Axes>"
      ]
     },
     "metadata": {},
     "output_type": "display_data"
    }
   ],
   "source": [
    "ax = sns.countplot(y=\"Year\", data=corpus, color='skyblue')"
   ]
  },
  {
   "cell_type": "markdown",
   "id": "a0662078",
   "metadata": {},
   "source": [
    "### Preprocessing"
   ]
  },
  {
   "cell_type": "markdown",
   "id": "89adf54f",
   "metadata": {},
   "source": [
    "Tutte le tecniche di NLP (Natural Language Processing) necessitano di una fase preliminare di pulizia dei dati, nella quale si rimuovono le parti di testo che non portano informazione utile ma, anzi, potrebbero peggiorare le prestazioni del modello [inserire riferimento al capitolo sul preprocessing nel software].\n",
    "\n",
    "Il testo viene preliminarmente trasformato in minuscolo, poi vengono rimossi i numeri e tutti i caratteri speciali, filtrando dunque tutto ciò che non è una parola di linguaggio naturale."
   ]
  },
  {
   "cell_type": "code",
   "execution_count": 10,
   "id": "f133b5e7",
   "metadata": {
    "scrolled": false
   },
   "outputs": [
    {
     "data": {
      "text/plain": [
       "0      deep-learning-enabled security issues in the internet of things in order to explore the applicat...\n",
       "1      robust spammer detection using collaborative neural network in internet-of-things applications s...\n",
       "2      robust learning-enabled intelligence for the internet of things survey from the perspectives of ...\n",
       "3      multicloud-model-based many-objective intelligent algorithm for efficient task scheduling in int...\n",
       "4      model for joint planning of production and distribution of fresh produce in agricultural interne...\n",
       "                                                      ...                                                 \n",
       "254    an overview of the internet of things for people with disabilities currently over billion people...\n",
       "255    smart community an internet of things application in this article we introduce an internet of th...\n",
       "256    siot giving social structure to the internet of things the actual development of the internet of...\n",
       "257    securing the internet of things this paper presents security of internet of things in the intern...\n",
       "258    multimedia traffic security architecture for the internet of things an important challenge for s...\n",
       "Name: Abstract, Length: 259, dtype: object"
      ]
     },
     "execution_count": 10,
     "metadata": {},
     "output_type": "execute_result"
    }
   ],
   "source": [
    "# lowercase\n",
    "corpus['Abstract'] = corpus['Abstract'].str.lower()\n",
    "\n",
    "# remove numbers\n",
    "corpus['Abstract'] = corpus['Abstract'].str.replace(r'[0-9]+', ' ', regex=True)\n",
    "\n",
    "# remove link\n",
    "corpus['Abstract'] = corpus['Abstract'].str.replace(r'http\\S+', ' ', regex=True)\n",
    "\n",
    "# remove punctuaction and special characters except dashes\n",
    "corpus['Abstract'] = corpus['Abstract'].str.replace(r'[^\\w\\s\\-]', ' ', regex=True)\n",
    "\n",
    "#remove single dashes preserving intra-word\n",
    "corpus['Abstract'] = corpus['Abstract'].str.replace('-(?!\\w)|(?<!\\w)-', ' ', regex=True)\n",
    "\n",
    "#remove single letter\n",
    "corpus['Abstract'] = corpus['Abstract'].str.replace('\\\\b\\\\w\\\\s', '', regex=True)\n",
    "\n",
    "# remove extra spaces\n",
    "corpus['Abstract'] = corpus['Abstract'].str.replace(' +', ' ', regex=True)\n",
    "\n",
    "corpus['Abstract']"
   ]
  },
  {
   "cell_type": "code",
   "execution_count": 11,
   "id": "7c85fcab",
   "metadata": {},
   "outputs": [],
   "source": [
    "corpus['IntroLen'] = corpus['Abstract'].map(lambda x: len(x.split()))"
   ]
  },
  {
   "cell_type": "code",
   "execution_count": 12,
   "id": "00866254",
   "metadata": {},
   "outputs": [
    {
     "name": "stdout",
     "output_type": "stream",
     "text": [
      "Lunghezza media documenti corpus con abstract e introduzione: 193.1196911196911\n"
     ]
    }
   ],
   "source": [
    "print('Lunghezza media documenti corpus con abstract e introduzione:', np.mean(corpus['IntroLen']))"
   ]
  },
  {
   "cell_type": "markdown",
   "id": "b7bbc4bf",
   "metadata": {},
   "source": [
    "### Rimozione stopwords e stemming"
   ]
  },
  {
   "cell_type": "code",
   "execution_count": 13,
   "id": "7def7a1b",
   "metadata": {},
   "outputs": [],
   "source": [
    "import nltk\n",
    "#nltk.download('punkt')\n",
    "from nltk import word_tokenize \n",
    "from nltk.corpus import stopwords\n",
    "#nltk.download('stopwords')\n",
    "from nltk.stem.snowball import SnowballStemmer"
   ]
  },
  {
   "cell_type": "markdown",
   "id": "cdfb7880",
   "metadata": {},
   "source": [
    "Un altro passo fondamentale facente parte del preprocessing del testo è la rimozione delle stopwords, parole molto frequenti che hanno poco significato semantico ma che vengono utilizzate nel linguaggio naturale; un esempio di stopwords è dato dagli articoli e dalle congiunzioni.\n",
    "Nel corpus sono però presenti altre parole molto frequenti presenti nella maggior parte dei documenti e che, dunque, non risultano utili per estrarre conoscenza. Le parole indicate sono state aggiunte alle stopwords in modo tale da essere filtrate prima dell'inserimento del corpus all'interno del modello."
   ]
  },
  {
   "cell_type": "code",
   "execution_count": 14,
   "id": "0c91d684",
   "metadata": {},
   "outputs": [],
   "source": [
    "stop = stopwords.words('english')\n",
    "stop.extend(['et', 'al', 'iot', 'data', 'internet', 'devices', 'proposed',\n",
    "             'things', 'network', 'applications', 'section', \n",
    "             'used', 'systems', 'system', 'developed', 'paper'])\n",
    "stemmer = SnowballStemmer(\"english\")"
   ]
  },
  {
   "cell_type": "code",
   "execution_count": 15,
   "id": "f390ab71",
   "metadata": {},
   "outputs": [],
   "source": [
    "# remove stopwords\n",
    "corpus['Abstract'] = corpus['Abstract'].apply(lambda x: [item for item in str(x).split() if item not in stop])"
   ]
  },
  {
   "cell_type": "markdown",
   "id": "4d894e95",
   "metadata": {},
   "source": [
    "L'operazione di stemming, invece, ha lo scopo di rimuovere le forme flesse delle parole così da ridurre la dimensionalità andando a raggruppare tutte le parole che hanno la stessa radice. [ ricondursi al paragrafo in cui è spiegato]."
   ]
  },
  {
   "cell_type": "code",
   "execution_count": 16,
   "id": "c36333c3",
   "metadata": {},
   "outputs": [],
   "source": [
    "# stemming\n",
    "stemmed_documents = corpus['Abstract'].apply(lambda x: [stemmer.stem(y) for y in x]) "
   ]
  },
  {
   "cell_type": "markdown",
   "id": "dd17eefe",
   "metadata": {},
   "source": [
    "### Ricostruzione parole dopo stemming"
   ]
  },
  {
   "cell_type": "markdown",
   "id": "17587668",
   "metadata": {},
   "source": [
    "Dopo aver effettuato lo stemming le parole vengono ricondotte alla propria radice e questo ne riduce l'interpretabilità. Per ovviare a questo problema le parole vengono ricostruite utilizzando la forma flessa più frequente associato ad ogni termine su cui è stato applicato lo stemming."
   ]
  },
  {
   "cell_type": "code",
   "execution_count": 17,
   "id": "8b7d5aa3",
   "metadata": {},
   "outputs": [],
   "source": [
    "def unstem(stemmed_documents, non_stemmed_documents):\n",
    "    stemmed_words = list()\n",
    "    non_stemmed_words = list()\n",
    "    \n",
    "    # convert matrix of stemmed documents into lists of terms\n",
    "    for i in stemmed_documents:\n",
    "        stemmed_words = stemmed_words + i\n",
    "        \n",
    "    # convert matrix of stemmed documents into lists of terms\n",
    "    for i in non_stemmed_documents:\n",
    "        non_stemmed_words = non_stemmed_words + i\n",
    "        \n",
    "    # list with no duplicates of words\n",
    "    stemmed_words_list = list(set(stemmed_words))\n",
    "    \n",
    "    # create a list with the correct non-stemmed words\n",
    "    correct_words_list = list()\n",
    "    \n",
    "    # dictionary with normal word -> stemmed word\n",
    "    w_dict = dict(zip(non_stemmed_words, stemmed_words))\n",
    "    \n",
    "    # loop all stemmed words\n",
    "    for word in stemmed_words_list:\n",
    "        word_list = [k for k in w_dict.keys() if w_dict[k] == word]\n",
    "        right_word = (max(word_list, key=word_list.count))\n",
    "        correct_words_list.append(right_word)\n",
    "        \n",
    "    # create a dictionary with stemmed word -> correct word\n",
    "    dictionary = dict(zip(stemmed_words_list, correct_words_list))\n",
    "    \n",
    "    unstemmed_documents = pd.Series(np.zeros(len(stemmed_documents)))\n",
    "    # map all stemmed words to the correct one\n",
    "    for i in range(0, len(stemmed_documents)):\n",
    "        unstemmed_documents[i] = [*map(dictionary.get, stemmed_documents[i])]\n",
    "        \n",
    "    return unstemmed_documents"
   ]
  },
  {
   "cell_type": "code",
   "execution_count": 18,
   "id": "1f315dba",
   "metadata": {},
   "outputs": [],
   "source": [
    "# get all documents not stemmed\n",
    "non_stemmed_documents = corpus['Abstract']"
   ]
  },
  {
   "cell_type": "code",
   "execution_count": 19,
   "id": "6613e436",
   "metadata": {
    "scrolled": false
   },
   "outputs": [
    {
     "data": {
      "text/plain": [
       "0      [deep-learning-enabled, security, issues, order, explore, application, value, deep, learning, de...\n",
       "1      [robust, spammer, detection, using, collaborative, neural, internet-of-things, spamming, emergin...\n",
       "2      [robust, learning-enabled, intelligence, survey, perspectives, noisy, adversarial, examples, wid...\n",
       "3      [multicloud-model-based, many-objective, intelligence, algorithms, efficiency, task, scheduling,...\n",
       "4      [model, joint, planning, production, distributed, fresh, produce, agricultural, production, dist...\n",
       "                                                      ...                                                 \n",
       "254    [overview, people, disabled, current, billions, people, includes, children, worlds, population, ...\n",
       "255    [smart, community, application, article, introduced, application, smart, community, reference, p...\n",
       "256    [siot, gives, social, structure, actual, development, needs, major, issues, related, services, d...\n",
       "257    [security, presents, security, vision, every, physical, objects, virtualization, component, prod...\n",
       "258    [multimedia, traffic, security, architectures, importance, challenge, supporting, multimedia, se...\n",
       "Length: 259, dtype: object"
      ]
     },
     "execution_count": 19,
     "metadata": {},
     "output_type": "execute_result"
    }
   ],
   "source": [
    "unstemmed_documents = unstem(stemmed_documents, non_stemmed_documents)\n",
    "unstemmed_documents"
   ]
  },
  {
   "cell_type": "markdown",
   "id": "9324c195",
   "metadata": {},
   "source": [
    "## LDA perplexity"
   ]
  },
  {
   "cell_type": "code",
   "execution_count": 20,
   "id": "91110521",
   "metadata": {},
   "outputs": [],
   "source": [
    "from tomotopy import LDAModel\n",
    "from tomotopy import CTModel\n",
    "from tomotopy.utils import Corpus"
   ]
  },
  {
   "cell_type": "code",
   "execution_count": 21,
   "id": "7b77eb91",
   "metadata": {},
   "outputs": [],
   "source": [
    "burn_in_samp = 10 # numero di campioni burnin\n",
    "train_iter = 100 # train con 50 iterazioni"
   ]
  },
  {
   "cell_type": "code",
   "execution_count": 22,
   "id": "ad5f07cd",
   "metadata": {},
   "outputs": [],
   "source": [
    "from sklearn.model_selection import KFold"
   ]
  },
  {
   "cell_type": "code",
   "execution_count": 23,
   "id": "579e813b",
   "metadata": {
    "scrolled": false
   },
   "outputs": [
    {
     "name": "stdout",
     "output_type": "stream",
     "text": [
      "Perplexity media LDA con 5-fold CV con k=2: 548.2063412764686\n",
      "Perplexity media LDA con 5-fold CV con k=3: 628.9972420626343\n",
      "Perplexity media LDA con 5-fold CV con k=4: 679.6937906927246\n",
      "Perplexity media LDA con 5-fold CV con k=5: 717.3183976912011\n",
      "Perplexity media LDA con 5-fold CV con k=6: 722.2963178321695\n",
      "Perplexity media LDA con 5-fold CV con k=7: 741.8703997884465\n",
      "Perplexity media LDA con 5-fold CV con k=8: 774.7400490583851\n",
      "Perplexity media LDA con 5-fold CV con k=9: 760.3980222516981\n",
      "Perplexity media LDA con 5-fold CV con k=10: 806.6216124811554\n",
      "Perplexity media LDA con 5-fold CV con k=11: 775.2013788801085\n",
      "Perplexity media LDA con 5-fold CV con k=12: 791.9503819266022\n",
      "Perplexity media LDA con 5-fold CV con k=13: 790.6818931864858\n",
      "Perplexity media LDA con 5-fold CV con k=14: 787.1361395246446\n",
      "Perplexity media LDA con 5-fold CV con k=15: 827.7504407769964\n",
      "Perplexity media LDA con 5-fold CV con k=16: 803.8268376954901\n",
      "Perplexity media LDA con 5-fold CV con k=17: 793.6224104505345\n",
      "Perplexity media LDA con 5-fold CV con k=18: 831.4329807865731\n",
      "Perplexity media LDA con 5-fold CV con k=19: 794.6293621116099\n",
      "Perplexity media LDA con 5-fold CV con k=20: 778.8637895484985\n"
     ]
    }
   ],
   "source": [
    "perplexity_lda = list() # inizializzazione lista di perplexity per la visualizzazione\n",
    "\n",
    "for i in range(2, 21):\n",
    "    # inizializza fold\n",
    "    kf = KFold(n_splits=5, shuffle=True)\n",
    "    perplexity_list = list()\n",
    "    for train_index, test_index in kf.split(unstemmed_documents):\n",
    "        X_train, X_test = unstemmed_documents[train_index], unstemmed_documents[test_index]\n",
    "        # creazione corpus tomotopy\n",
    "        corpus_train = Corpus()\n",
    "        for doc in X_train:\n",
    "            corpus_train.add_doc(doc)\n",
    "        # creazione modello LDA\n",
    "        lda_model = LDAModel(k=i, alpha=50/i, eta=0.1, corpus=corpus_train)\n",
    "        lda_model.burn_in = burn_in_samp #imposta burnin\n",
    "        lda_model.train(train_iter)\n",
    "        # inferenza sui documenti di test\n",
    "        corpus_test = Corpus()\n",
    "        for doc in X_test:\n",
    "            corpus_test.add_doc(doc)\n",
    "        # calcolo perpleity su test set\n",
    "        topic_dist, ll = lda_model.infer(corpus_test)\n",
    "        num_words = sum(X_test.map(lambda x: len(x)))\n",
    "        perp = math.exp(-(np.sum(ll)/num_words))\n",
    "        perplexity_list.append(perp)\n",
    "    perplexity_lda.append(np.mean(perplexity_list))\n",
    "    print('Perplexity media LDA con 5-fold CV con k={}: {}'.format(i, np.mean(perplexity_list)))"
   ]
  },
  {
   "cell_type": "code",
   "execution_count": 51,
   "id": "239cacaf",
   "metadata": {},
   "outputs": [
    {
     "data": {
      "image/png": "[encoded data removed]",
      "text/plain": [
       "<Figure size 720x432 with 1 Axes>"
      ]
     },
     "metadata": {},
     "output_type": "display_data"
    }
   ],
   "source": [
    "ax = plt.figure(figsize=(10,6))\n",
    "ax = sns.lineplot(x=range(2, 21), y=perplexity_lda)\n",
    "ax.set(xticks=list(range(2,21)))\n",
    "ax.set_xlabel('Numero topic')\n",
    "ax.set_ylabel('Perplexity')\n",
    "plt.show()"
   ]
  },
  {
   "cell_type": "markdown",
   "id": "3694e860",
   "metadata": {},
   "source": [
    "## CTM perplexity"
   ]
  },
  {
   "cell_type": "code",
   "execution_count": 25,
   "id": "e9749a11",
   "metadata": {
    "scrolled": true
   },
   "outputs": [
    {
     "name": "stdout",
     "output_type": "stream",
     "text": [
      "Perplexity media CTM con 5-fold CV con k=2: 292.33296081112104\n",
      "Perplexity media CTM con 5-fold CV con k=3: 228.92992150529486\n",
      "Perplexity media CTM con 5-fold CV con k=4: 200.02909398951834\n",
      "Perplexity media CTM con 5-fold CV con k=5: 187.20700990117177\n",
      "Perplexity media CTM con 5-fold CV con k=6: 170.60798208665562\n",
      "Perplexity media CTM con 5-fold CV con k=7: 167.57183062268322\n",
      "Perplexity media CTM con 5-fold CV con k=8: 166.2367874604915\n",
      "Perplexity media CTM con 5-fold CV con k=9: 157.36881890062787\n",
      "Perplexity media CTM con 5-fold CV con k=10: 157.34946241354842\n",
      "Perplexity media CTM con 5-fold CV con k=11: 151.61379279540844\n",
      "Perplexity media CTM con 5-fold CV con k=12: 154.90316451152378\n",
      "Perplexity media CTM con 5-fold CV con k=13: 157.34308875172317\n",
      "Perplexity media CTM con 5-fold CV con k=14: 156.35612763600744\n",
      "Perplexity media CTM con 5-fold CV con k=15: 154.9600213595605\n",
      "Perplexity media CTM con 5-fold CV con k=16: 157.8152355987037\n",
      "Perplexity media CTM con 5-fold CV con k=17: 157.41758315935058\n",
      "Perplexity media CTM con 5-fold CV con k=18: 164.55798197867725\n",
      "Perplexity media CTM con 5-fold CV con k=19: 165.53190738644406\n",
      "Perplexity media CTM con 5-fold CV con k=20: 170.40713780890783\n"
     ]
    }
   ],
   "source": [
    "perplexity_ctm = list() # inizializzazione lista di perplexity per la visualizzazione\n",
    "\n",
    "for i in range(2, 21):\n",
    "    # inizializza fold\n",
    "    kf = KFold(n_splits=5, shuffle=True)\n",
    "    perplexity_list = list()\n",
    "    for train_index, test_index in kf.split(unstemmed_documents):\n",
    "        X_train, X_test = unstemmed_documents[train_index], unstemmed_documents[test_index]\n",
    "        # creazione corpus tomotopy\n",
    "        corpus_train = Corpus()\n",
    "        for doc in X_train:\n",
    "            corpus_train.add_doc(doc)\n",
    "        # creazione modello LDA\n",
    "        ctm_model = CTModel(k=i, smoothing_alpha=50/i, eta=0.1, corpus=corpus_train) # costruzione modello\n",
    "        ctm_model.burn_in = burn_in_samp #imposta burnin\n",
    "        ctm_model.train(train_iter)\n",
    "        # inferenza sui documenti di test\n",
    "        corpus_test = Corpus()\n",
    "        for doc in X_test:\n",
    "            corpus_test.add_doc(doc)\n",
    "        # calcolo perpleity su test set\n",
    "        topic_dist, ll = ctm_model.infer(corpus_test)\n",
    "        num_words = sum(X_test.map(lambda x: len(x)))\n",
    "        perp = math.exp(-(np.sum(ll)/num_words))\n",
    "        perplexity_list.append(perp)\n",
    "    perplexity_ctm.append(np.mean(perplexity_list))\n",
    "    print('Perplexity media CTM con 5-fold CV con k={}: {}'.format(i, np.mean(perplexity_list)))"
   ]
  },
  {
   "cell_type": "code",
   "execution_count": 52,
   "id": "31259b92",
   "metadata": {},
   "outputs": [
    {
     "data": {
      "image/png": "[encoded data removed]",
      "text/plain": [
       "<Figure size 720x432 with 1 Axes>"
      ]
     },
     "metadata": {},
     "output_type": "display_data"
    }
   ],
   "source": [
    "ax = plt.figure(figsize=(10,6))\n",
    "ax = sns.lineplot(x=range(2, 21), y=perplexity_ctm)\n",
    "ax.set(xticks=list(range(2,21)))\n",
    "ax.set_xlabel('Numero topic')\n",
    "ax.set_ylabel('Perplexity')\n",
    "plt.show()"
   ]
  },
  {
   "cell_type": "markdown",
   "id": "7a7c6ded",
   "metadata": {},
   "source": [
    "## Coherence"
   ]
  },
  {
   "cell_type": "code",
   "execution_count": 27,
   "id": "954cc162",
   "metadata": {},
   "outputs": [],
   "source": [
    "from tomotopy.coherence import Coherence"
   ]
  },
  {
   "cell_type": "code",
   "execution_count": 28,
   "id": "7fade59c",
   "metadata": {},
   "outputs": [],
   "source": [
    "# corpus completo con tutti i documenti\n",
    "corpus_total = Corpus()\n",
    "for doc in unstemmed_documents:\n",
    "    corpus_total.add_doc(doc)"
   ]
  },
  {
   "cell_type": "markdown",
   "id": "67b68f27",
   "metadata": {},
   "source": [
    "## Coherence LDA"
   ]
  },
  {
   "cell_type": "code",
   "execution_count": 29,
   "id": "81f6dadd",
   "metadata": {},
   "outputs": [
    {
     "name": "stdout",
     "output_type": "stream",
     "text": [
      "Coherence LDA c_v con k=3 = 0.6020525226990382\n",
      "Coherence LDA c_v con k=4 = 0.5992245640605689\n",
      "Coherence LDA c_v con k=5 = 0.4834776374697685\n",
      "Coherence LDA c_v con k=6 = 0.5292368950943153\n",
      "Coherence LDA c_v con k=7 = 0.5056845786316054\n",
      "Coherence LDA c_v con k=8 = 0.5205141740385443\n",
      "Coherence LDA c_v con k=9 = 0.5933118141359752\n",
      "Coherence LDA c_v con k=10 = 0.5593857741355897\n",
      "Coherence LDA c_v con k=11 = 0.5531086721245877\n",
      "Coherence LDA c_v con k=12 = 0.5754621217337748\n",
      "Coherence LDA c_v con k=13 = 0.5970124076192196\n",
      "Coherence LDA c_v con k=14 = 0.6272094247596604\n"
     ]
    }
   ],
   "source": [
    "coherence_lda = list() # inizializza lista di coherence per la visualizzazione\n",
    "\n",
    "for i in range(3, 15):\n",
    "    # creazione modello LDA e train con tutti i documenti\n",
    "    lda_model = LDAModel(k=i, alpha=50/i, eta=0.1, seed=12345, corpus=corpus_total) # costruzione modello\n",
    "    lda_model.burn_in = burn_in_samp #imposta burnin\n",
    "    lda_model.train(train_iter) # iterazioni di train\n",
    "    coh = Coherence(lda_model, coherence='c_v')\n",
    "    average_coherence = coh.get_score()\n",
    "    coherence_lda.append(average_coherence)\n",
    "    print('Coherence LDA c_v con k={} = {}'.format(i, average_coherence))"
   ]
  },
  {
   "cell_type": "code",
   "execution_count": 30,
   "id": "bb504dbe",
   "metadata": {},
   "outputs": [
    {
     "data": {
      "text/plain": [
       "<AxesSubplot:>"
      ]
     },
     "execution_count": 30,
     "metadata": {},
     "output_type": "execute_result"
    },
    {
     "data": {
      "image/png": "[encoded data removed]",
      "text/plain": [
       "<Figure size 432x288 with 1 Axes>"
      ]
     },
     "metadata": {
      "needs_background": "light"
     },
     "output_type": "display_data"
    }
   ],
   "source": [
    "sns.lineplot(x=range(3, 15), y=coherence_lda)"
   ]
  },
  {
   "cell_type": "markdown",
   "id": "d0fb5887",
   "metadata": {},
   "source": [
    "## Coherence CTM"
   ]
  },
  {
   "cell_type": "code",
   "execution_count": 31,
   "id": "58ad0c7f",
   "metadata": {
    "scrolled": true
   },
   "outputs": [
    {
     "name": "stdout",
     "output_type": "stream",
     "text": [
      "Coherence CTM c_v con k=3 = 0.34869067668914794\n",
      "Coherence CTM c_v con k=4 = 0.3881690512411296\n",
      "Coherence CTM c_v con k=5 = 0.35065642774105077\n",
      "Coherence CTM c_v con k=6 = 0.34719501331759\n",
      "Coherence CTM c_v con k=7 = 0.3100120174831578\n",
      "Coherence CTM c_v con k=8 = 0.3461077481071697\n",
      "Coherence CTM c_v con k=9 = 0.3514739466624128\n",
      "Coherence CTM c_v con k=10 = 0.3394014664180577\n",
      "Coherence CTM c_v con k=11 = 0.3581508822739124\n",
      "Coherence CTM c_v con k=12 = 0.3328438140131766\n",
      "Coherence CTM c_v con k=13 = 0.3392330884521541\n",
      "Coherence CTM c_v con k=14 = 0.3262701625137457\n"
     ]
    }
   ],
   "source": [
    "coherence_ctm = list() # inizializza lista di coherence per la visualizzazione\n",
    "\n",
    "for i in range(3, 15):\n",
    "    # creazione modello LDA e train con tutti i documenti\n",
    "    ctm_model = CTModel(k=i, smoothing_alpha=50/i, seed=12345, eta=0.1, corpus=corpus_total) # costruzione modello\n",
    "    ctm_model.burn_in = burn_in_samp #imposta burnin\n",
    "    ctm_model.train(train_iter) # iterazioni di train\n",
    "    coh = Coherence(ctm_model, coherence='c_v')\n",
    "    average_coherence = coh.get_score()\n",
    "    coherence_ctm.append(average_coherence)\n",
    "    print('Coherence CTM c_v con k={} = {}'.format(i, average_coherence))"
   ]
  },
  {
   "cell_type": "code",
   "execution_count": 32,
   "id": "3fcb5035",
   "metadata": {},
   "outputs": [
    {
     "data": {
      "text/plain": [
       "<AxesSubplot:>"
      ]
     },
     "execution_count": 32,
     "metadata": {},
     "output_type": "execute_result"
    },
    {
     "data": {
      "image/png": "[encoded data removed]",
      "text/plain": [
       "<Figure size 432x288 with 1 Axes>"
      ]
     },
     "metadata": {
      "needs_background": "light"
     },
     "output_type": "display_data"
    }
   ],
   "source": [
    "sns.lineplot(x=range(3, 15), y=coherence_ctm)"
   ]
  },
  {
   "cell_type": "markdown",
   "id": "849f65bb",
   "metadata": {},
   "source": [
    "## Estrazione topic LDA"
   ]
  },
  {
   "cell_type": "code",
   "execution_count": 33,
   "id": "cdd93792",
   "metadata": {},
   "outputs": [],
   "source": [
    "k=7\n",
    "lda_model = LDAModel(k=k, alpha=50/k, eta=0.1, seed=12345, corpus=corpus_total) # costruzione modello\n",
    "lda_model.burn_in = burn_in_samp #imposta burnin"
   ]
  },
  {
   "cell_type": "markdown",
   "id": "c6d523e7",
   "metadata": {},
   "source": [
    "#### Train del modello"
   ]
  },
  {
   "cell_type": "code",
   "execution_count": 34,
   "id": "3917c2da",
   "metadata": {},
   "outputs": [],
   "source": [
    "lda_model.train(train_iter) # effettua il train"
   ]
  },
  {
   "cell_type": "code",
   "execution_count": 35,
   "id": "a7fad9e9",
   "metadata": {},
   "outputs": [
    {
     "name": "stdout",
     "output_type": "stream",
     "text": [
      "Num docs: 259 , Vocab size: 3157 , Num words: 27880\n",
      "Removed top words: []\n"
     ]
    }
   ],
   "source": [
    "print('Num docs:', len(lda_model.docs), ', Vocab size:', len(lda_model.used_vocabs), ', Num words:', lda_model.num_words)\n",
    "print('Removed top words:', lda_model.removed_top_words)"
   ]
  },
  {
   "cell_type": "code",
   "execution_count": 36,
   "id": "2da18fae",
   "metadata": {
    "scrolled": false
   },
   "outputs": [
    {
     "name": "stdout",
     "output_type": "stream",
     "text": [
      "Topic #0\n",
      "\t\tsecurity\t0.09168034791946411\n",
      "\t\tattacks\t0.02387218549847603\n",
      "\t\tprivacy\t0.02170480228960514\n",
      "\t\tschemes\t0.021395176649093628\n",
      "\t\tsensors\t0.016131529584527016\n",
      "\t\tusers\t0.013964145444333553\n",
      "\t\tnetworks\t0.011796761304140091\n",
      "\t\tmechanism\t0.010867882519960403\n",
      "\t\tnodes\t0.010867882519960403\n",
      "\t\tindustry\t0.010248629376292229\n",
      "Topic #1\n",
      "\t\tcontrol\t0.018785156309604645\n",
      "\t\toptimization\t0.01807761751115322\n",
      "\t\tmethods\t0.017723847180604935\n",
      "\t\taccess\t0.01595500111579895\n",
      "\t\tperformance\t0.014539922587573528\n",
      "\t\tschemes\t0.014186153188347816\n",
      "\t\ttransmission\t0.013124844990670681\n",
      "\t\tbased\t0.012417306192219257\n",
      "\t\tpower\t0.011002229526638985\n",
      "\t\tenergy\t0.010648459196090698\n",
      "Topic #2\n",
      "\t\tindustry\t0.04789108783006668\n",
      "\t\tblockchain\t0.03119783289730549\n",
      "\t\tenergy\t0.0274882223457098\n",
      "\t\tiiot\t0.0274882223457098\n",
      "\t\tmanagement\t0.015246503055095673\n",
      "\t\tpower\t0.012278813868761063\n",
      "\t\tdistributed\t0.012278813868761063\n",
      "\t\tproduction\t0.011536892503499985\n",
      "\t\tbuildings\t0.011165930889546871\n",
      "\t\tmodel\t0.009682086296379566\n",
      "Topic #3\n",
      "\t\ttechnology\t0.027408819645643234\n",
      "\t\tchallenge\t0.020108649507164955\n",
      "\t\tresearch\t0.018876153975725174\n",
      "\t\tprovide\t0.016031932085752487\n",
      "\t\tpresents\t0.013187709264457226\n",
      "\t\tcommunication\t0.01271367259323597\n",
      "\t\tfuture\t0.012050019577145576\n",
      "\t\tsurvey\t0.01119675301015377\n",
      "\t\tenable\t0.010438294149935246\n",
      "\t\tdevelopment\t0.009774642065167427\n",
      "Topic #4\n",
      "\t\tlayer\t0.01826753094792366\n",
      "\t\tcommunication\t0.014517598785459995\n",
      "\t\timage\t0.014517598785459995\n",
      "\t\tuavs\t0.01344618946313858\n",
      "\t\tmedical\t0.01237477920949459\n",
      "\t\tdeployed\t0.010767665691673756\n",
      "\t\toptimization\t0.010767665691673756\n",
      "\t\tvehicles\t0.01023196056485176\n",
      "\t\tconnections\t0.01023196056485176\n",
      "\t\tmobile\t0.009160551242530346\n",
      "Topic #5\n",
      "\t\tsmart\t0.05399610847234726\n",
      "\t\tcities\t0.024176256731152534\n",
      "\t\tinformation\t0.019247356802225113\n",
      "\t\tmanagement\t0.014564900659024715\n",
      "\t\tsensors\t0.014072011224925518\n",
      "\t\tservices\t0.011854005977511406\n",
      "\t\tusing\t0.011854005977511406\n",
      "\t\tsocial\t0.011361115612089634\n",
      "\t\tanalytics\t0.010868225246667862\n",
      "\t\tobjects\t0.009636000730097294\n",
      "Topic #6\n",
      "\t\tcomputing\t0.03598659858107567\n",
      "\t\tedge\t0.027149228379130363\n",
      "\t\tlearning\t0.019750496372580528\n",
      "\t\tmodel\t0.015434571541845798\n",
      "\t\tfog\t0.015023531392216682\n",
      "\t\talgorithms\t0.014612490311264992\n",
      "\t\tservices\t0.012762808240950108\n",
      "\t\tdeep\t0.011529686860740185\n",
      "\t\ttraffic\t0.010296565480530262\n",
      "\t\tcloud\t0.009474484249949455\n"
     ]
    }
   ],
   "source": [
    "for k in range(lda_model.k):\n",
    "    print('Topic #{}'.format(k))\n",
    "    for word, prob in lda_model.get_topic_words(k):\n",
    "        print('\\t', word, prob, sep='\\t')"
   ]
  },
  {
   "cell_type": "code",
   "execution_count": 37,
   "id": "1e1c3308",
   "metadata": {},
   "outputs": [],
   "source": [
    "for j in range(0, k+1):\n",
    "    corpus['Topic_'+str(j)] = pd.Series(np.zeros(len(stemmed_documents)))"
   ]
  },
  {
   "cell_type": "code",
   "execution_count": 38,
   "id": "f213ac15",
   "metadata": {
    "scrolled": false
   },
   "outputs": [],
   "source": [
    "for i in range(0, len(corpus['Introduction'])):\n",
    "    doc = lda_model.make_doc(unstemmed_documents[i])\n",
    "    x = lda_model.infer(doc)\n",
    "    for j in range(0, k+1):\n",
    "        corpus.at[i, 'Topic_'+str(j)] = x[0][j]"
   ]
  },
  {
   "cell_type": "code",
   "execution_count": 39,
   "id": "f67a5e1e",
   "metadata": {},
   "outputs": [],
   "source": [
    "pd.set_option('display.max_colwidth', None)"
   ]
  },
  {
   "cell_type": "code",
   "execution_count": 40,
   "id": "075d39ca",
   "metadata": {},
   "outputs": [],
   "source": [
    "topic_dict = {'Topic_0': 'Industry', 'Topic_1': 'Security', 'Topic_2': 'Smart City', 'Topic_3': 'Machine learning', \n",
    "              'Topic_4': 'Communication', 'Topic_5': 'Research and surveys', 'Topic_6': 'Cloud computing'}"
   ]
  },
  {
   "cell_type": "code",
   "execution_count": 41,
   "id": "a13ce4c4",
   "metadata": {
    "scrolled": true
   },
   "outputs": [],
   "source": [
    "corpus = corpus.rename(columns=topic_dict)"
   ]
  },
  {
   "cell_type": "code",
   "execution_count": 42,
   "id": "0e9ebaa4",
   "metadata": {},
   "outputs": [],
   "source": [
    "corpus['assignedTopic'] = corpus.iloc[:, 6:].idxmax(axis=1)"
   ]
  },
  {
   "cell_type": "code",
   "execution_count": 43,
   "id": "98047c70",
   "metadata": {},
   "outputs": [
    {
     "data": {
      "image/png": "[encoded data removed]",
      "text/plain": [
       "<Figure size 720x432 with 1 Axes>"
      ]
     },
     "metadata": {
      "needs_background": "light"
     },
     "output_type": "display_data"
    }
   ],
   "source": [
    "ax = plt.figure(figsize=(10,6))\n",
    "ax = sns.countplot(y=\"assignedTopic\", data=corpus, color=\"skyblue\")\n",
    "ax.set_xlabel('Numero documenti')\n",
    "ax.set_ylabel('Topic')\n",
    "plt.show()"
   ]
  },
  {
   "cell_type": "markdown",
   "id": "a5f2fdef",
   "metadata": {},
   "source": [
    "## Estrazione topic CTM"
   ]
  },
  {
   "cell_type": "code",
   "execution_count": 44,
   "id": "1a42e133",
   "metadata": {},
   "outputs": [],
   "source": [
    "k = 12\n",
    "ctm_model = CTModel(k=k, smoothing_alpha=50/k, seed=12345, eta=0.1, corpus=corpus_total) # costruzione modello\n",
    "ctm_model.burn_in = burn_in_samp #imposta burnin\n",
    "ctm_model.train(train_iter) # iterazioni di train"
   ]
  },
  {
   "cell_type": "code",
   "execution_count": 45,
   "id": "a036f227",
   "metadata": {},
   "outputs": [
    {
     "name": "stdout",
     "output_type": "stream",
     "text": [
      "Num docs: 259 , Vocab size: 3157 , Num words: 27880\n",
      "Removed top words: []\n"
     ]
    }
   ],
   "source": [
    "print('Num docs:', len(ctm_model.docs), ', Vocab size:', len(ctm_model.used_vocabs), ', Num words:', ctm_model.num_words)\n",
    "print('Removed top words:', ctm_model.removed_top_words)"
   ]
  },
  {
   "cell_type": "code",
   "execution_count": 46,
   "id": "f2c54a37",
   "metadata": {},
   "outputs": [
    {
     "name": "stdout",
     "output_type": "stream",
     "text": [
      "Topic #0\n",
      "\t\tmanagement\t0.040727078914642334\n",
      "\t\tnetworks\t0.026276761665940285\n",
      "\t\tbig\t0.022093774750828743\n",
      "\t\tfinally\t0.02095296047627926\n",
      "\t\tsurvey\t0.016769973561167717\n",
      "\t\taddress\t0.016009431332349777\n",
      "\t\tmake\t0.015248887240886688\n",
      "\t\tphysical\t0.015248887240886688\n",
      "\t\timportance\t0.014868616126477718\n",
      "\t\tarchitectures\t0.014488344080746174\n",
      "Topic #1\n",
      "\t\tcomputing\t0.09445789456367493\n",
      "\t\tedge\t0.05002578720450401\n",
      "\t\tfog\t0.02820645086467266\n",
      "\t\tneeds\t0.02304915338754654\n",
      "\t\tcloud\t0.019082000479102135\n",
      "\t\tmodel\t0.013527987524867058\n",
      "\t\taccess\t0.013527987524867058\n",
      "\t\trelated\t0.012734557501971722\n",
      "\t\tevaluation\t0.012337842956185341\n",
      "\t\tconcept\t0.012337842956185341\n",
      "Topic #2\n",
      "\t\ttechnology\t0.06019116938114166\n",
      "\t\tbased\t0.0336199589073658\n",
      "\t\tprocessing\t0.02992951311171055\n",
      "\t\tusing\t0.027715245261788368\n",
      "\t\temerging\t0.020703399553894997\n",
      "\t\tcommunication\t0.020334353670477867\n",
      "\t\tsolution\t0.018120087683200836\n",
      "\t\tfuture\t0.017012953758239746\n",
      "\t\tarchitectures\t0.016274863854050636\n",
      "\t\tcloud\t0.015905819833278656\n",
      "Topic #3\n",
      "\t\tservices\t0.05805292725563049\n",
      "\t\tsecurity\t0.040086835622787476\n",
      "\t\tpresents\t0.028483737260103226\n",
      "\t\tmethods\t0.026986563578248024\n",
      "\t\tprotocol\t0.02511509507894516\n",
      "\t\tdevelopment\t0.022120747715234756\n",
      "\t\tnodes\t0.020623572170734406\n",
      "\t\tfeature\t0.019126398488879204\n",
      "\t\telsevier\t0.016880637034773827\n",
      "\t\tapproaches\t0.014634876511991024\n",
      "Topic #4\n",
      "\t\tchallenge\t0.07200688868761063\n",
      "\t\tenable\t0.03445848077535629\n",
      "\t\trequires\t0.0313294492661953\n",
      "\t\tresearch\t0.028200414031744003\n",
      "\t\tfirst\t0.019986702129244804\n",
      "\t\tcapable\t0.01685766689479351\n",
      "\t\tdifferent\t0.01685766689479351\n",
      "\t\tincrease\t0.015293151140213013\n",
      "\t\treview\t0.014119763858616352\n",
      "\t\talso\t0.01372863445430994\n",
      "Topic #5\n",
      "\t\tprovide\t0.04898446798324585\n",
      "\t\tcities\t0.027402011677622795\n",
      "\t\tenvironment\t0.02701660990715027\n",
      "\t\tsecurity\t0.02547500655055046\n",
      "\t\talso\t0.025089604780077934\n",
      "\t\tresource\t0.021620996296405792\n",
      "\t\tintelligence\t0.019693991169333458\n",
      "\t\tsmart\t0.014683778397738934\n",
      "\t\tapplication\t0.014683778397738934\n",
      "\t\tanalyzing\t0.013912975788116455\n",
      "Topic #6\n",
      "\t\tsmart\t0.0740501806139946\n",
      "\t\tcommunication\t0.026606444269418716\n",
      "\t\tenergy\t0.023190496489405632\n",
      "\t\tblockchain\t0.02129274606704712\n",
      "\t\tanalysis\t0.018256347626447678\n",
      "\t\tplatform\t0.017497247084975243\n",
      "\t\tworks\t0.016738148406147957\n",
      "\t\texisting\t0.016358599066734314\n",
      "\t\tvarious\t0.016358599066734314\n",
      "\t\tprivacy\t0.015219949185848236\n",
      "Topic #7\n",
      "\t\tresearch\t0.03014826402068138\n",
      "\t\tinformation\t0.029004840180277824\n",
      "\t\tlearning\t0.025193428620696068\n",
      "\t\tefficiency\t0.021763158962130547\n",
      "\t\tintegrate\t0.02138201706111431\n",
      "\t\timplement\t0.01795174740254879\n",
      "\t\tdirections\t0.016808323562145233\n",
      "\t\treview\t0.01528375968337059\n",
      "\t\tsimulation\t0.013759194873273373\n",
      "\t\tbuildings\t0.011472348123788834\n",
      "Topic #8\n",
      "\t\tindustry\t0.037200573831796646\n",
      "\t\tsensors\t0.03094528429210186\n",
      "\t\tcontrol\t0.029841409996151924\n",
      "\t\tconnections\t0.026897745206952095\n",
      "\t\tusers\t0.023586120456457138\n",
      "\t\tarticle\t0.022114288061857224\n",
      "\t\tiiot\t0.021746329963207245\n",
      "\t\thealthcare\t0.017330830916762352\n",
      "\t\tpower\t0.016962872818112373\n",
      "\t\tproblem\t0.016594914719462395\n",
      "Topic #9\n",
      "\t\tsecurity\t0.04417099803686142\n",
      "\t\tissues\t0.03856079652905464\n",
      "\t\tperformance\t0.03743875399231911\n",
      "\t\tschemes\t0.026218349114060402\n",
      "\t\tmodel\t0.024722294881939888\n",
      "\t\tseveral\t0.018364064395427704\n",
      "\t\tsocial\t0.01649399660527706\n",
      "\t\tnumber\t0.016119983047246933\n",
      "\t\tarea\t0.016119983047246933\n",
      "\t\trelated\t0.012379847466945648\n",
      "Topic #10\n",
      "\t\tnew\t0.04508001729846001\n",
      "\t\toptimization\t0.02567107416689396\n",
      "\t\tfuture\t0.025304866954684258\n",
      "\t\twireless\t0.022741422057151794\n",
      "\t\trecent\t0.020177975296974182\n",
      "\t\tobjects\t0.020177975296974182\n",
      "\t\tcomprehensive\t0.016882117837667465\n",
      "\t\tsurvey\t0.015417291782796383\n",
      "\t\treal-time\t0.015051085501909256\n",
      "\t\tdeep\t0.014684879221022129\n",
      "Topic #11\n",
      "\t\ttechnology\t0.05340346693992615\n",
      "\t\tresults\t0.02921641618013382\n",
      "\t\tenergy\t0.02384151704609394\n",
      "\t\tattacks\t0.02077014558017254\n",
      "\t\tparadigms\t0.020002303645014763\n",
      "\t\tone\t0.014243482612073421\n",
      "\t\tintroduced\t0.013475639745593071\n",
      "\t\tsupporting\t0.013091718778014183\n",
      "\t\tusing\t0.012323875911533833\n",
      "\t\tmobile\t0.011939954943954945\n"
     ]
    }
   ],
   "source": [
    "for k in range(ctm_model.k):\n",
    "    print('Topic #{}'.format(k))\n",
    "    for word, prob in ctm_model.get_topic_words(k):\n",
    "        print('\\t', word, prob, sep='\\t')"
   ]
  },
  {
   "cell_type": "code",
   "execution_count": null,
   "id": "bc868f59",
   "metadata": {},
   "outputs": [],
   "source": []
  },
  {
   "cell_type": "code",
   "execution_count": null,
   "id": "3328b5d9",
   "metadata": {},
   "outputs": [],
   "source": []
  }
 ],
 "metadata": {
  "kernelspec": {
   "display_name": "Python 3",
   "language": "python",
   "name": "python3"
  },
  "language_info": {
   "codemirror_mode": {
    "name": "ipython",
    "version": 3
   },
   "file_extension": ".py",
   "mimetype": "text/x-python",
   "name": "python",
   "nbconvert_exporter": "python",
   "pygments_lexer": "ipython3",
   "version": "3.7.3"
  }
 },
 "nbformat": 4,
 "nbformat_minor": 5
}
